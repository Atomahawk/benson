{
 "cells": [
  {
   "cell_type": "markdown",
   "metadata": {},
   "source": [
    "# Project 1: Benson \n",
    "\n",
    "### Team Members: Andrew, Emily, Florian, Paul\n",
    "\n",
    "<img src='cupsapp-360x360.png' height='150' width='150' align='left'></img>"
   ]
  },
  {
   "cell_type": "markdown",
   "metadata": {},
   "source": [
    "### Problem Statement"
   ]
  },
  {
   "cell_type": "markdown",
   "metadata": {},
   "source": [
    "Independent coffee shops face significant competition from Starbucks and other major brands. To this end, CUPS (**the Client**) has designed a mobile app that offers a mobile payment and discovery platform for many independent coffee shops around the New York City area. By purchasing varied monthly subscription plans, users can opt to enjoy a set coffee and tea beverages, or pay a flat fee for unlimited monthly drinks.\n",
    "\n",
    "The Client approached our consulting firm with a request for a data driven approach to increase the user base and encourage consumers to purchase coffee using the app."
   ]
  },
  {
   "cell_type": "markdown",
   "metadata": {},
   "source": [
    "### Analytical Approach"
   ]
  },
  {
   "cell_type": "markdown",
   "metadata": {},
   "source": [
    "The target market are commuters who use the Metropolitan Transportation Authority (MTA) transit system since commuters are highly likely to purchase coffee in the mornings before work. In order to increase the user base, poster advertisements and flyers would be posted near high-traffic MTA stations. Users would then be sent push notifications from the app to prompt them to purchase drinks from the wide-range of partnered independent coffee shops near the MTA stations.\n",
    "\n",
    "##### Criteria for Choosing MTA Commuter Stations\n",
    "The publicly available MTA turnstile data from March 2017 was analyzed to determine the four stations that would garner the highest advertisement exposure to daily commuters. There were two criteria that were used to pinpoint these particular commuter stations:\n",
    "1. High exit rate during the morning commute hours.\n",
    "2. High entry rate during the afternoon and evening hours.\n",
    "\n",
    "These two criteria would differentiate MTA stations with a high volume of commuter traffic from the other MTA stations. \n",
    "\n",
    "##### Data Analysis Approach\n",
    "The data was grouped by station and by date and time. The morning commute hours were determined to be between 4 AM and 12 PM. The afternoon and evening hours were determined to be between 4 PM and 12 AM. Two plots were created using the MTA turnstile data:\n",
    "1. The data for the morning commute hours (**morning data**) and the data for the afternoon and evening hours (**evening data**) were totaled for the month of March in order to determine which stations had the highest amount of commuter traffic.\n",
    "2. The morning data and the evening data were averaged by the day of the week for the month of March in order to plot the daily trend throughout the week.\n"
   ]
  },
  {
   "cell_type": "markdown",
   "metadata": {},
   "source": [
    "### Results"
   ]
  },
  {
   "cell_type": "markdown",
   "metadata": {
    "collapsed": true
   },
   "source": [
    "<img src='plot_1.png' height='700' width='700' align='center'></img>\n",
    "<center>_Figure 1_: This figure shows the ten stations with the largest _morning exits_ and _evening entries_.</center>\n",
    "\n",
    "Figure 1 illustrates that stations with a high amount of exit traffic in the mornings also have a high amount of entry traffic in the afternoon and evening. These stations can be identified as commuter stations since they adhere to exit and entry rates characteristic of commuter traffic. \n",
    "\n"
   ]
  },
  {
   "cell_type": "markdown",
   "metadata": {},
   "source": [
    "### Analysis"
   ]
  },
  {
   "cell_type": "markdown",
   "metadata": {},
   "source": [
    "Since the target market is commuters who are on their way to work in the mornings, the top four stations with the highest morning exit traffic are recommended to be the locations to place advertisements. These stations are:\n",
    "1. Grand Central–42nd Street\n",
    "2. 34th Street–Herald Square\n",
    "3. 47th–50th Streets–Rockefeller Center\n",
    "4. Times Square–42nd Street\n",
    "\n",
    "\n"
   ]
  },
  {
   "cell_type": "markdown",
   "metadata": {},
   "source": [
    "### Conclusion"
   ]
  },
  {
   "cell_type": "code",
   "execution_count": null,
   "metadata": {
    "collapsed": true
   },
   "outputs": [],
   "source": []
  },
  {
   "cell_type": "markdown",
   "metadata": {},
   "source": [
    "### Future Works"
   ]
  },
  {
   "cell_type": "markdown",
   "metadata": {},
   "source": [
    "Since coffee is normally consumed in the morning, the app usage rate peaks during the morning hours and decreases as the day goes on. The MTA data can conversely be used to analyze which stations have the highest nightlife traffic. Restaurants and bars with happy hour discounts could be partnered with in order to promoste these small businesses as well as increase the CUPS app usage."
   ]
  },
  {
   "cell_type": "code",
   "execution_count": null,
   "metadata": {
    "collapsed": true
   },
   "outputs": [],
   "source": []
  }
 ],
 "metadata": {
  "anaconda-cloud": {},
  "kernelspec": {
   "display_name": "Python [default]",
   "language": "python",
   "name": "python3"
  },
  "language_info": {
   "codemirror_mode": {
    "name": "ipython",
    "version": 3
   },
   "file_extension": ".py",
   "mimetype": "text/x-python",
   "name": "python",
   "nbconvert_exporter": "python",
   "pygments_lexer": "ipython3",
   "version": "3.5.2"
  }
 },
 "nbformat": 4,
 "nbformat_minor": 1
}
