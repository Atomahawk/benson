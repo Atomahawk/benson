{
 "cells": [
  {
   "cell_type": "markdown",
   "metadata": {},
   "source": [
    "## Benson exploratory data analysis"
   ]
  },
  {
   "cell_type": "code",
   "execution_count": 2,
   "metadata": {
    "collapsed": false
   },
   "outputs": [],
   "source": [
    "from collections import defaultdict\n",
    "from dateutil.parser import parse\n",
    "from datetime import datetime\n",
    "from datetime import date\n",
    "import pandas as pd\n",
    "import numpy as np\n",
    "import matplotlib.pyplot as plt\n",
    "\n",
    "from IPython.display import Image\n",
    "\n",
    "%matplotlib inline"
   ]
  },
  {
   "cell_type": "code",
   "execution_count": 3,
   "metadata": {
    "collapsed": true
   },
   "outputs": [],
   "source": [
    "# various options in pandas\n",
    "pd.set_option('display.max_columns', None)\n",
    "pd.set_option('display.max_rows', 25)\n",
    "pd.set_option('display.precision', 3)"
   ]
  },
  {
   "cell_type": "code",
   "execution_count": 4,
   "metadata": {
    "collapsed": true
   },
   "outputs": [],
   "source": [
    "def read_mta(file_nums):\n",
    "    path ='http://web.mta.info/developers/data/nyct/turnstile/turnstile_'\n",
    "    allFiles = []\n",
    "    for i in file_nums:\n",
    "        allFiles.append(path + i + \".txt\")\n",
    "    df_list = [pd.read_csv(file) for file in allFiles]\n",
    "    df = pd.concat(df_list)\n",
    "    df.columns = df.columns.str.strip()\n",
    "    return df"
   ]
  },
  {
   "cell_type": "code",
   "execution_count": 5,
   "metadata": {
    "collapsed": false
   },
   "outputs": [],
   "source": [
    "# March data\n",
    "df = read_mta(['170325', '170318', '170311', '170304'])"
   ]
  },
  {
   "cell_type": "code",
   "execution_count": 6,
   "metadata": {
    "collapsed": false
   },
   "outputs": [
    {
     "data": {
      "text/plain": [
       "Index(['C/A', 'UNIT', 'SCP', 'STATION', 'LINENAME', 'DIVISION', 'DATE', 'TIME',\n",
       "       'DESC', 'ENTRIES', 'EXITS'],\n",
       "      dtype='object')"
      ]
     },
     "execution_count": 6,
     "metadata": {},
     "output_type": "execute_result"
    }
   ],
   "source": [
    "df.columns"
   ]
  },
  {
   "cell_type": "code",
   "execution_count": 7,
   "metadata": {
    "collapsed": false
   },
   "outputs": [
    {
     "data": {
      "text/html": [
       "<div>\n",
       "<table border=\"1\" class=\"dataframe\">\n",
       "  <thead>\n",
       "    <tr style=\"text-align: right;\">\n",
       "      <th></th>\n",
       "      <th>C/A</th>\n",
       "      <th>UNIT</th>\n",
       "      <th>SCP</th>\n",
       "      <th>STATION</th>\n",
       "      <th>DATE</th>\n",
       "      <th>TIME</th>\n",
       "      <th>ENTRIES</th>\n",
       "    </tr>\n",
       "  </thead>\n",
       "  <tbody>\n",
       "    <tr>\n",
       "      <th>0</th>\n",
       "      <td>A002</td>\n",
       "      <td>R051</td>\n",
       "      <td>02-00-00</td>\n",
       "      <td>59 ST</td>\n",
       "      <td>02/25/2017</td>\n",
       "      <td>03:00:00</td>\n",
       "      <td>1</td>\n",
       "    </tr>\n",
       "    <tr>\n",
       "      <th>517918</th>\n",
       "      <td>R143</td>\n",
       "      <td>R032</td>\n",
       "      <td>02-03-01</td>\n",
       "      <td>TIMES SQ-42 ST</td>\n",
       "      <td>03/11/2017</td>\n",
       "      <td>15:00:00</td>\n",
       "      <td>1</td>\n",
       "    </tr>\n",
       "    <tr>\n",
       "      <th>517909</th>\n",
       "      <td>R143</td>\n",
       "      <td>R032</td>\n",
       "      <td>02-03-01</td>\n",
       "      <td>TIMES SQ-42 ST</td>\n",
       "      <td>03/09/2017</td>\n",
       "      <td>23:00:00</td>\n",
       "      <td>1</td>\n",
       "    </tr>\n",
       "    <tr>\n",
       "      <th>517910</th>\n",
       "      <td>R143</td>\n",
       "      <td>R032</td>\n",
       "      <td>02-03-01</td>\n",
       "      <td>TIMES SQ-42 ST</td>\n",
       "      <td>03/10/2017</td>\n",
       "      <td>03:00:00</td>\n",
       "      <td>1</td>\n",
       "    </tr>\n",
       "    <tr>\n",
       "      <th>517911</th>\n",
       "      <td>R143</td>\n",
       "      <td>R032</td>\n",
       "      <td>02-03-01</td>\n",
       "      <td>TIMES SQ-42 ST</td>\n",
       "      <td>03/10/2017</td>\n",
       "      <td>07:00:00</td>\n",
       "      <td>1</td>\n",
       "    </tr>\n",
       "  </tbody>\n",
       "</table>\n",
       "</div>"
      ],
      "text/plain": [
       "         C/A  UNIT       SCP         STATION        DATE      TIME  ENTRIES\n",
       "0       A002  R051  02-00-00           59 ST  02/25/2017  03:00:00        1\n",
       "517918  R143  R032  02-03-01  TIMES SQ-42 ST  03/11/2017  15:00:00        1\n",
       "517909  R143  R032  02-03-01  TIMES SQ-42 ST  03/09/2017  23:00:00        1\n",
       "517910  R143  R032  02-03-01  TIMES SQ-42 ST  03/10/2017  03:00:00        1\n",
       "517911  R143  R032  02-03-01  TIMES SQ-42 ST  03/10/2017  07:00:00        1"
      ]
     },
     "execution_count": 7,
     "metadata": {},
     "output_type": "execute_result"
    }
   ],
   "source": [
    "# remove duplicates\n",
    "df = df[df.DESC != 'RECOVR AUD']\n",
    "df = df[df.TIME != '04:01:13']\n",
    "# Sanity check to verify that \"C/A\", \"UNIT\", \"SCP\", \"STATION\", \"DATE_TIME\" is unique\n",
    "(df\n",
    " .groupby(['C/A', 'UNIT', 'SCP', 'STATION', 'DATE', 'TIME'])\n",
    " .ENTRIES.count()\n",
    " .reset_index()\n",
    " .sort_values(\"ENTRIES\", ascending=False)).head()"
   ]
  },
  {
   "cell_type": "code",
   "execution_count": 8,
   "metadata": {
    "collapsed": false
   },
   "outputs": [
    {
     "data": {
      "text/html": [
       "<div>\n",
       "<table border=\"1\" class=\"dataframe\">\n",
       "  <thead>\n",
       "    <tr style=\"text-align: right;\">\n",
       "      <th></th>\n",
       "      <th>C/A</th>\n",
       "      <th>UNIT</th>\n",
       "      <th>SCP</th>\n",
       "      <th>STATION</th>\n",
       "      <th>LINENAME</th>\n",
       "      <th>DIVISION</th>\n",
       "      <th>DATE</th>\n",
       "      <th>TIME</th>\n",
       "      <th>DESC</th>\n",
       "      <th>ENTRIES</th>\n",
       "      <th>EXITS</th>\n",
       "    </tr>\n",
       "  </thead>\n",
       "  <tbody>\n",
       "    <tr>\n",
       "      <th>0</th>\n",
       "      <td>A002</td>\n",
       "      <td>R051</td>\n",
       "      <td>02-00-00</td>\n",
       "      <td>59 ST</td>\n",
       "      <td>NQR456W</td>\n",
       "      <td>BMT</td>\n",
       "      <td>03/18/2017</td>\n",
       "      <td>00:00:00</td>\n",
       "      <td>REGULAR</td>\n",
       "      <td>6095917</td>\n",
       "      <td>2065975</td>\n",
       "    </tr>\n",
       "    <tr>\n",
       "      <th>1</th>\n",
       "      <td>A002</td>\n",
       "      <td>R051</td>\n",
       "      <td>02-00-00</td>\n",
       "      <td>59 ST</td>\n",
       "      <td>NQR456W</td>\n",
       "      <td>BMT</td>\n",
       "      <td>03/18/2017</td>\n",
       "      <td>04:00:00</td>\n",
       "      <td>REGULAR</td>\n",
       "      <td>6095980</td>\n",
       "      <td>2065977</td>\n",
       "    </tr>\n",
       "    <tr>\n",
       "      <th>3</th>\n",
       "      <td>A002</td>\n",
       "      <td>R051</td>\n",
       "      <td>02-00-00</td>\n",
       "      <td>59 ST</td>\n",
       "      <td>NQR456W</td>\n",
       "      <td>BMT</td>\n",
       "      <td>03/18/2017</td>\n",
       "      <td>08:00:00</td>\n",
       "      <td>REGULAR</td>\n",
       "      <td>6096012</td>\n",
       "      <td>2066004</td>\n",
       "    </tr>\n",
       "    <tr>\n",
       "      <th>4</th>\n",
       "      <td>A002</td>\n",
       "      <td>R051</td>\n",
       "      <td>02-00-00</td>\n",
       "      <td>59 ST</td>\n",
       "      <td>NQR456W</td>\n",
       "      <td>BMT</td>\n",
       "      <td>03/18/2017</td>\n",
       "      <td>12:00:00</td>\n",
       "      <td>REGULAR</td>\n",
       "      <td>6096165</td>\n",
       "      <td>2066103</td>\n",
       "    </tr>\n",
       "    <tr>\n",
       "      <th>5</th>\n",
       "      <td>A002</td>\n",
       "      <td>R051</td>\n",
       "      <td>02-00-00</td>\n",
       "      <td>59 ST</td>\n",
       "      <td>NQR456W</td>\n",
       "      <td>BMT</td>\n",
       "      <td>03/18/2017</td>\n",
       "      <td>16:00:00</td>\n",
       "      <td>REGULAR</td>\n",
       "      <td>6096540</td>\n",
       "      <td>2066168</td>\n",
       "    </tr>\n",
       "  </tbody>\n",
       "</table>\n",
       "</div>"
      ],
      "text/plain": [
       "    C/A  UNIT       SCP STATION LINENAME DIVISION        DATE      TIME  \\\n",
       "0  A002  R051  02-00-00   59 ST  NQR456W      BMT  03/18/2017  00:00:00   \n",
       "1  A002  R051  02-00-00   59 ST  NQR456W      BMT  03/18/2017  04:00:00   \n",
       "3  A002  R051  02-00-00   59 ST  NQR456W      BMT  03/18/2017  08:00:00   \n",
       "4  A002  R051  02-00-00   59 ST  NQR456W      BMT  03/18/2017  12:00:00   \n",
       "5  A002  R051  02-00-00   59 ST  NQR456W      BMT  03/18/2017  16:00:00   \n",
       "\n",
       "      DESC  ENTRIES    EXITS  \n",
       "0  REGULAR  6095917  2065975  \n",
       "1  REGULAR  6095980  2065977  \n",
       "3  REGULAR  6096012  2066004  \n",
       "4  REGULAR  6096165  2066103  \n",
       "5  REGULAR  6096540  2066168  "
      ]
     },
     "execution_count": 8,
     "metadata": {},
     "output_type": "execute_result"
    }
   ],
   "source": [
    "# data is at a turnstile level\n",
    "df.head()"
   ]
  },
  {
   "cell_type": "code",
   "execution_count": 9,
   "metadata": {
    "collapsed": true
   },
   "outputs": [],
   "source": [
    "df['DATETIME'] = pd.to_datetime(df.DATE + ' ' + df.TIME)"
   ]
  },
  {
   "cell_type": "code",
   "execution_count": 10,
   "metadata": {
    "collapsed": false
   },
   "outputs": [],
   "source": [
    "df = df.set_index(['DATETIME'])\n",
    "#df.head()"
   ]
  },
  {
   "cell_type": "code",
   "execution_count": 11,
   "metadata": {
    "collapsed": false
   },
   "outputs": [
    {
     "data": {
      "text/html": [
       "<div>\n",
       "<table border=\"1\" class=\"dataframe\">\n",
       "  <thead>\n",
       "    <tr style=\"text-align: right;\">\n",
       "      <th></th>\n",
       "      <th>C/A</th>\n",
       "      <th>UNIT</th>\n",
       "      <th>SCP</th>\n",
       "      <th>STATION</th>\n",
       "      <th>LINENAME</th>\n",
       "      <th>DIVISION</th>\n",
       "      <th>DATE</th>\n",
       "      <th>TIME</th>\n",
       "      <th>DESC</th>\n",
       "      <th>ENTRIES</th>\n",
       "      <th>EXITS</th>\n",
       "    </tr>\n",
       "    <tr>\n",
       "      <th>DATETIME</th>\n",
       "      <th></th>\n",
       "      <th></th>\n",
       "      <th></th>\n",
       "      <th></th>\n",
       "      <th></th>\n",
       "      <th></th>\n",
       "      <th></th>\n",
       "      <th></th>\n",
       "      <th></th>\n",
       "      <th></th>\n",
       "      <th></th>\n",
       "    </tr>\n",
       "  </thead>\n",
       "  <tbody>\n",
       "    <tr>\n",
       "      <th>2017-03-18 04:00:00</th>\n",
       "      <td>A002</td>\n",
       "      <td>R051</td>\n",
       "      <td>02-00-00</td>\n",
       "      <td>59 ST</td>\n",
       "      <td>NQR456W</td>\n",
       "      <td>BMT</td>\n",
       "      <td>03/18/2017</td>\n",
       "      <td>04:00:00</td>\n",
       "      <td>REGULAR</td>\n",
       "      <td>6095980</td>\n",
       "      <td>2065977</td>\n",
       "    </tr>\n",
       "    <tr>\n",
       "      <th>2017-03-18 08:00:00</th>\n",
       "      <td>A002</td>\n",
       "      <td>R051</td>\n",
       "      <td>02-00-00</td>\n",
       "      <td>59 ST</td>\n",
       "      <td>NQR456W</td>\n",
       "      <td>BMT</td>\n",
       "      <td>03/18/2017</td>\n",
       "      <td>08:00:00</td>\n",
       "      <td>REGULAR</td>\n",
       "      <td>6096012</td>\n",
       "      <td>2066004</td>\n",
       "    </tr>\n",
       "    <tr>\n",
       "      <th>2017-03-18 12:00:00</th>\n",
       "      <td>A002</td>\n",
       "      <td>R051</td>\n",
       "      <td>02-00-00</td>\n",
       "      <td>59 ST</td>\n",
       "      <td>NQR456W</td>\n",
       "      <td>BMT</td>\n",
       "      <td>03/18/2017</td>\n",
       "      <td>12:00:00</td>\n",
       "      <td>REGULAR</td>\n",
       "      <td>6096165</td>\n",
       "      <td>2066103</td>\n",
       "    </tr>\n",
       "    <tr>\n",
       "      <th>2017-03-19 04:00:00</th>\n",
       "      <td>A002</td>\n",
       "      <td>R051</td>\n",
       "      <td>02-00-00</td>\n",
       "      <td>59 ST</td>\n",
       "      <td>NQR456W</td>\n",
       "      <td>BMT</td>\n",
       "      <td>03/19/2017</td>\n",
       "      <td>04:00:00</td>\n",
       "      <td>REGULAR</td>\n",
       "      <td>6097250</td>\n",
       "      <td>2066240</td>\n",
       "    </tr>\n",
       "    <tr>\n",
       "      <th>2017-03-19 08:00:00</th>\n",
       "      <td>A002</td>\n",
       "      <td>R051</td>\n",
       "      <td>02-00-00</td>\n",
       "      <td>59 ST</td>\n",
       "      <td>NQR456W</td>\n",
       "      <td>BMT</td>\n",
       "      <td>03/19/2017</td>\n",
       "      <td>08:00:00</td>\n",
       "      <td>REGULAR</td>\n",
       "      <td>6097260</td>\n",
       "      <td>2066259</td>\n",
       "    </tr>\n",
       "  </tbody>\n",
       "</table>\n",
       "</div>"
      ],
      "text/plain": [
       "                      C/A  UNIT       SCP STATION LINENAME DIVISION  \\\n",
       "DATETIME                                                              \n",
       "2017-03-18 04:00:00  A002  R051  02-00-00   59 ST  NQR456W      BMT   \n",
       "2017-03-18 08:00:00  A002  R051  02-00-00   59 ST  NQR456W      BMT   \n",
       "2017-03-18 12:00:00  A002  R051  02-00-00   59 ST  NQR456W      BMT   \n",
       "2017-03-19 04:00:00  A002  R051  02-00-00   59 ST  NQR456W      BMT   \n",
       "2017-03-19 08:00:00  A002  R051  02-00-00   59 ST  NQR456W      BMT   \n",
       "\n",
       "                           DATE      TIME     DESC  ENTRIES    EXITS  \n",
       "DATETIME                                                              \n",
       "2017-03-18 04:00:00  03/18/2017  04:00:00  REGULAR  6095980  2065977  \n",
       "2017-03-18 08:00:00  03/18/2017  08:00:00  REGULAR  6096012  2066004  \n",
       "2017-03-18 12:00:00  03/18/2017  12:00:00  REGULAR  6096165  2066103  \n",
       "2017-03-19 04:00:00  03/19/2017  04:00:00  REGULAR  6097250  2066240  \n",
       "2017-03-19 08:00:00  03/19/2017  08:00:00  REGULAR  6097260  2066259  "
      ]
     },
     "execution_count": 11,
     "metadata": {},
     "output_type": "execute_result"
    }
   ],
   "source": [
    "# filter dataset to 4am to noon\n",
    "morning = df.between_time('04:00:00', '12:00:00')\n",
    "morning.head()"
   ]
  },
  {
   "cell_type": "code",
   "execution_count": 12,
   "metadata": {
    "collapsed": false
   },
   "outputs": [],
   "source": [
    "# subtract max from min for each turnstile to get exits\n",
    "morning_turn = (morning.groupby(['C/A', 'UNIT', 'SCP', 'STATION', 'DATE'])['EXITS'].max()\\\n",
    "           -morning.groupby(['C/A', 'UNIT', 'SCP', 'STATION', 'DATE'])['EXITS'].min()).reset_index()"
   ]
  },
  {
   "cell_type": "code",
   "execution_count": 13,
   "metadata": {
    "collapsed": false
   },
   "outputs": [
    {
     "data": {
      "text/plain": [
       "count    1.309e+05\n",
       "mean     7.928e+02\n",
       "std      8.658e+04\n",
       "min      0.000e+00\n",
       "25%      1.700e+01\n",
       "50%      9.600e+01\n",
       "75%      2.760e+02\n",
       "max      1.685e+07\n",
       "Name: EXITS, dtype: float64"
      ]
     },
     "execution_count": 13,
     "metadata": {},
     "output_type": "execute_result"
    }
   ],
   "source": [
    "#explore outliers\n",
    "morning_turn['EXITS'].describe()"
   ]
  },
  {
   "cell_type": "code",
   "execution_count": 14,
   "metadata": {
    "collapsed": false
   },
   "outputs": [
    {
     "data": {
      "text/plain": [
       "60327        2892\n",
       "60332        2895\n",
       "60325        2943\n",
       "60330        2947\n",
       "60361        2971\n",
       "60333        2994\n",
       "60354        3312\n",
       "60326        3471\n",
       "60941    15447834\n",
       "60913    15448026\n",
       "Name: EXITS, dtype: int64"
      ]
     },
     "execution_count": 14,
     "metadata": {},
     "output_type": "execute_result"
    }
   ],
   "source": [
    "# oddly high value for 47-50\n",
    "morning_turn.loc[morning_turn['STATION'] == '47-50 STS ROCK']['EXITS'].sort_values(ascending = True).tail(10)"
   ]
  },
  {
   "cell_type": "code",
   "execution_count": 15,
   "metadata": {
    "collapsed": false
   },
   "outputs": [
    {
     "data": {
      "text/plain": [
       "101558        5627\n",
       "101561        5629\n",
       "101554        5632\n",
       "101553        5791\n",
       "101559        5803\n",
       "14729        11936\n",
       "25330        13257\n",
       "75281        14315\n",
       "75975        26042\n",
       "80779        30254\n",
       "81094        31664\n",
       "78655        37722\n",
       "            ...   \n",
       "73918        89231\n",
       "36326       108121\n",
       "78461       246263\n",
       "73632       822530\n",
       "79152       933403\n",
       "127543     1374207\n",
       "78488      1573110\n",
       "100987     7503729\n",
       "100978    12562196\n",
       "60941     15447834\n",
       "60913     15448026\n",
       "68904     16850624\n",
       "Name: EXITS, dtype: int64"
      ]
     },
     "execution_count": 15,
     "metadata": {},
     "output_type": "execute_result"
    }
   ],
   "source": [
    "morning_turn['EXITS'].sort_values(ascending = True).tail(30)"
   ]
  },
  {
   "cell_type": "code",
   "execution_count": 16,
   "metadata": {
    "collapsed": false
   },
   "outputs": [],
   "source": [
    "# removing values that appear to be counter resets\n",
    "morning_turn = morning_turn[morning_turn.EXITS <= 11000]"
   ]
  },
  {
   "cell_type": "code",
   "execution_count": 17,
   "metadata": {
    "collapsed": false
   },
   "outputs": [
    {
     "data": {
      "text/html": [
       "<div>\n",
       "<table border=\"1\" class=\"dataframe\">\n",
       "  <thead>\n",
       "    <tr style=\"text-align: right;\">\n",
       "      <th></th>\n",
       "      <th>C/A</th>\n",
       "      <th>UNIT</th>\n",
       "      <th>SCP</th>\n",
       "      <th>STATION</th>\n",
       "      <th>DATE</th>\n",
       "      <th>EXITS</th>\n",
       "    </tr>\n",
       "  </thead>\n",
       "  <tbody>\n",
       "    <tr>\n",
       "      <th>0</th>\n",
       "      <td>A002</td>\n",
       "      <td>R051</td>\n",
       "      <td>02-00-00</td>\n",
       "      <td>59 ST</td>\n",
       "      <td>02/25/2017</td>\n",
       "      <td>103</td>\n",
       "    </tr>\n",
       "    <tr>\n",
       "      <th>1</th>\n",
       "      <td>A002</td>\n",
       "      <td>R051</td>\n",
       "      <td>02-00-00</td>\n",
       "      <td>59 ST</td>\n",
       "      <td>02/26/2017</td>\n",
       "      <td>65</td>\n",
       "    </tr>\n",
       "    <tr>\n",
       "      <th>2</th>\n",
       "      <td>A002</td>\n",
       "      <td>R051</td>\n",
       "      <td>02-00-00</td>\n",
       "      <td>59 ST</td>\n",
       "      <td>02/27/2017</td>\n",
       "      <td>255</td>\n",
       "    </tr>\n",
       "    <tr>\n",
       "      <th>3</th>\n",
       "      <td>A002</td>\n",
       "      <td>R051</td>\n",
       "      <td>02-00-00</td>\n",
       "      <td>59 ST</td>\n",
       "      <td>02/28/2017</td>\n",
       "      <td>386</td>\n",
       "    </tr>\n",
       "    <tr>\n",
       "      <th>4</th>\n",
       "      <td>A002</td>\n",
       "      <td>R051</td>\n",
       "      <td>02-00-00</td>\n",
       "      <td>59 ST</td>\n",
       "      <td>03/01/2017</td>\n",
       "      <td>346</td>\n",
       "    </tr>\n",
       "  </tbody>\n",
       "</table>\n",
       "</div>"
      ],
      "text/plain": [
       "    C/A  UNIT       SCP STATION        DATE  EXITS\n",
       "0  A002  R051  02-00-00   59 ST  02/25/2017    103\n",
       "1  A002  R051  02-00-00   59 ST  02/26/2017     65\n",
       "2  A002  R051  02-00-00   59 ST  02/27/2017    255\n",
       "3  A002  R051  02-00-00   59 ST  02/28/2017    386\n",
       "4  A002  R051  02-00-00   59 ST  03/01/2017    346"
      ]
     },
     "execution_count": 17,
     "metadata": {},
     "output_type": "execute_result"
    }
   ],
   "source": [
    "morning_turn.head()\n",
    "#morning_turn.shape"
   ]
  },
  {
   "cell_type": "code",
   "execution_count": 18,
   "metadata": {
    "collapsed": false
   },
   "outputs": [
    {
     "data": {
      "text/html": [
       "<div>\n",
       "<table border=\"1\" class=\"dataframe\">\n",
       "  <thead>\n",
       "    <tr style=\"text-align: right;\">\n",
       "      <th></th>\n",
       "      <th>STATION</th>\n",
       "      <th>DATE</th>\n",
       "      <th>EXITS</th>\n",
       "    </tr>\n",
       "  </thead>\n",
       "  <tbody>\n",
       "    <tr>\n",
       "      <th>0</th>\n",
       "      <td>1 AV</td>\n",
       "      <td>2017-02-25</td>\n",
       "      <td>2499</td>\n",
       "    </tr>\n",
       "    <tr>\n",
       "      <th>1</th>\n",
       "      <td>1 AV</td>\n",
       "      <td>2017-02-26</td>\n",
       "      <td>1817</td>\n",
       "    </tr>\n",
       "    <tr>\n",
       "      <th>2</th>\n",
       "      <td>1 AV</td>\n",
       "      <td>2017-02-27</td>\n",
       "      <td>6897</td>\n",
       "    </tr>\n",
       "    <tr>\n",
       "      <th>3</th>\n",
       "      <td>1 AV</td>\n",
       "      <td>2017-02-28</td>\n",
       "      <td>7145</td>\n",
       "    </tr>\n",
       "    <tr>\n",
       "      <th>4</th>\n",
       "      <td>1 AV</td>\n",
       "      <td>2017-03-01</td>\n",
       "      <td>7222</td>\n",
       "    </tr>\n",
       "  </tbody>\n",
       "</table>\n",
       "</div>"
      ],
      "text/plain": [
       "  STATION       DATE  EXITS\n",
       "0    1 AV 2017-02-25   2499\n",
       "1    1 AV 2017-02-26   1817\n",
       "2    1 AV 2017-02-27   6897\n",
       "3    1 AV 2017-02-28   7145\n",
       "4    1 AV 2017-03-01   7222"
      ]
     },
     "execution_count": 18,
     "metadata": {},
     "output_type": "execute_result"
    }
   ],
   "source": [
    "# add up total morning exits per station\n",
    "morning_station = morning_turn.groupby(['STATION', 'DATE']).sum().reset_index()\n",
    "morning_station['DATE'] = pd.to_datetime(morning_station['DATE'])\n",
    "morning_station.head()"
   ]
  },
  {
   "cell_type": "code",
   "execution_count": 19,
   "metadata": {
    "collapsed": true
   },
   "outputs": [],
   "source": [
    "# summing for whole month\n",
    "morning_month = morning_station.groupby(['STATION'])['EXITS'].sum().reset_index()\n",
    "morning_month = morning_month.set_index('STATION')"
   ]
  },
  {
   "cell_type": "code",
   "execution_count": 20,
   "metadata": {
    "collapsed": false
   },
   "outputs": [
    {
     "data": {
      "text/plain": [
       "<matplotlib.axes._subplots.AxesSubplot at 0x10a055e48>"
      ]
     },
     "execution_count": 20,
     "metadata": {},
     "output_type": "execute_result"
    },
    {
     "data": {
      "image/png": "[encoded data removed]",
      "text/plain": [
       "<matplotlib.figure.Figure at 0x10a0555f8>"
      ]
     },
     "metadata": {},
     "output_type": "display_data"
    }
   ],
   "source": [
    "# determine busiest stations\n",
    "topsts = morning_month.sort_values('EXITS', ascending=False).head(15)\n",
    "topsts.head()\n",
    "topsts.plot(kind='barh', title='Morning Exits by Station')"
   ]
  },
  {
   "cell_type": "code",
   "execution_count": null,
   "metadata": {
    "collapsed": true
   },
   "outputs": [],
   "source": []
  },
  {
   "cell_type": "markdown",
   "metadata": {},
   "source": [
    "### Grand Central Station analysis\n",
    "\n",
    "Station chosen because it has the greatest number of morning exits. What do exit patterns look like over the course of the month (at four hour increments). Weekly patterns?"
   ]
  },
  {
   "cell_type": "code",
   "execution_count": 21,
   "metadata": {
    "collapsed": false
   },
   "outputs": [],
   "source": [
    "# df.head()"
   ]
  },
  {
   "cell_type": "code",
   "execution_count": 22,
   "metadata": {
    "collapsed": false
   },
   "outputs": [],
   "source": [
    "# limit to Grand Central at turnstile level\n",
    "grdcentral = df[df['STATION'] == 'GRD CNTRL-42 ST']"
   ]
  },
  {
   "cell_type": "code",
   "execution_count": 23,
   "metadata": {
    "collapsed": false
   },
   "outputs": [
    {
     "data": {
      "text/plain": [
       "(10144, 11)"
      ]
     },
     "execution_count": 23,
     "metadata": {},
     "output_type": "execute_result"
    }
   ],
   "source": [
    "grdcentral.shape"
   ]
  },
  {
   "cell_type": "code",
   "execution_count": 24,
   "metadata": {
    "collapsed": false
   },
   "outputs": [
    {
     "data": {
      "text/html": [
       "<div>\n",
       "<table border=\"1\" class=\"dataframe\">\n",
       "  <thead>\n",
       "    <tr style=\"text-align: right;\">\n",
       "      <th></th>\n",
       "      <th>C/A</th>\n",
       "      <th>UNIT</th>\n",
       "      <th>SCP</th>\n",
       "      <th>STATION</th>\n",
       "      <th>LINENAME</th>\n",
       "      <th>DIVISION</th>\n",
       "      <th>DATE</th>\n",
       "      <th>TIME</th>\n",
       "      <th>DESC</th>\n",
       "      <th>ENTRIES</th>\n",
       "      <th>EXITS</th>\n",
       "    </tr>\n",
       "    <tr>\n",
       "      <th>DATETIME</th>\n",
       "      <th></th>\n",
       "      <th></th>\n",
       "      <th></th>\n",
       "      <th></th>\n",
       "      <th></th>\n",
       "      <th></th>\n",
       "      <th></th>\n",
       "      <th></th>\n",
       "      <th></th>\n",
       "      <th></th>\n",
       "      <th></th>\n",
       "    </tr>\n",
       "  </thead>\n",
       "  <tbody>\n",
       "    <tr>\n",
       "      <th>2017-03-18 01:00:00</th>\n",
       "      <td>R236</td>\n",
       "      <td>R045</td>\n",
       "      <td>00-00-00</td>\n",
       "      <td>GRD CNTRL-42 ST</td>\n",
       "      <td>4567S</td>\n",
       "      <td>IRT</td>\n",
       "      <td>03/18/2017</td>\n",
       "      <td>01:00:00</td>\n",
       "      <td>REGULAR</td>\n",
       "      <td>747519</td>\n",
       "      <td>2221855</td>\n",
       "    </tr>\n",
       "    <tr>\n",
       "      <th>2017-03-18 05:00:00</th>\n",
       "      <td>R236</td>\n",
       "      <td>R045</td>\n",
       "      <td>00-00-00</td>\n",
       "      <td>GRD CNTRL-42 ST</td>\n",
       "      <td>4567S</td>\n",
       "      <td>IRT</td>\n",
       "      <td>03/18/2017</td>\n",
       "      <td>05:00:00</td>\n",
       "      <td>REGULAR</td>\n",
       "      <td>747528</td>\n",
       "      <td>2221890</td>\n",
       "    </tr>\n",
       "    <tr>\n",
       "      <th>2017-03-18 09:00:00</th>\n",
       "      <td>R236</td>\n",
       "      <td>R045</td>\n",
       "      <td>00-00-00</td>\n",
       "      <td>GRD CNTRL-42 ST</td>\n",
       "      <td>4567S</td>\n",
       "      <td>IRT</td>\n",
       "      <td>03/18/2017</td>\n",
       "      <td>09:00:00</td>\n",
       "      <td>REGULAR</td>\n",
       "      <td>747552</td>\n",
       "      <td>2222107</td>\n",
       "    </tr>\n",
       "    <tr>\n",
       "      <th>2017-03-18 13:00:00</th>\n",
       "      <td>R236</td>\n",
       "      <td>R045</td>\n",
       "      <td>00-00-00</td>\n",
       "      <td>GRD CNTRL-42 ST</td>\n",
       "      <td>4567S</td>\n",
       "      <td>IRT</td>\n",
       "      <td>03/18/2017</td>\n",
       "      <td>13:00:00</td>\n",
       "      <td>REGULAR</td>\n",
       "      <td>747659</td>\n",
       "      <td>2222859</td>\n",
       "    </tr>\n",
       "    <tr>\n",
       "      <th>2017-03-18 17:00:00</th>\n",
       "      <td>R236</td>\n",
       "      <td>R045</td>\n",
       "      <td>00-00-00</td>\n",
       "      <td>GRD CNTRL-42 ST</td>\n",
       "      <td>4567S</td>\n",
       "      <td>IRT</td>\n",
       "      <td>03/18/2017</td>\n",
       "      <td>17:00:00</td>\n",
       "      <td>REGULAR</td>\n",
       "      <td>747888</td>\n",
       "      <td>2223831</td>\n",
       "    </tr>\n",
       "  </tbody>\n",
       "</table>\n",
       "</div>"
      ],
      "text/plain": [
       "                      C/A  UNIT       SCP          STATION LINENAME DIVISION  \\\n",
       "DATETIME                                                                       \n",
       "2017-03-18 01:00:00  R236  R045  00-00-00  GRD CNTRL-42 ST    4567S      IRT   \n",
       "2017-03-18 05:00:00  R236  R045  00-00-00  GRD CNTRL-42 ST    4567S      IRT   \n",
       "2017-03-18 09:00:00  R236  R045  00-00-00  GRD CNTRL-42 ST    4567S      IRT   \n",
       "2017-03-18 13:00:00  R236  R045  00-00-00  GRD CNTRL-42 ST    4567S      IRT   \n",
       "2017-03-18 17:00:00  R236  R045  00-00-00  GRD CNTRL-42 ST    4567S      IRT   \n",
       "\n",
       "                           DATE      TIME     DESC  ENTRIES    EXITS  \n",
       "DATETIME                                                              \n",
       "2017-03-18 01:00:00  03/18/2017  01:00:00  REGULAR   747519  2221855  \n",
       "2017-03-18 05:00:00  03/18/2017  05:00:00  REGULAR   747528  2221890  \n",
       "2017-03-18 09:00:00  03/18/2017  09:00:00  REGULAR   747552  2222107  \n",
       "2017-03-18 13:00:00  03/18/2017  13:00:00  REGULAR   747659  2222859  \n",
       "2017-03-18 17:00:00  03/18/2017  17:00:00  REGULAR   747888  2223831  "
      ]
     },
     "execution_count": 24,
     "metadata": {},
     "output_type": "execute_result"
    }
   ],
   "source": [
    "grdcentral.head()"
   ]
  },
  {
   "cell_type": "code",
   "execution_count": 25,
   "metadata": {
    "collapsed": false
   },
   "outputs": [],
   "source": [
    "turnstiles = grdcentral['SCP'].unique()"
   ]
  },
  {
   "cell_type": "code",
   "execution_count": 26,
   "metadata": {
    "collapsed": false
   },
   "outputs": [
    {
     "name": "stderr",
     "output_type": "stream",
     "text": [
      "/Users/braeburn/anaconda/lib/python3.6/site-packages/ipykernel/__main__.py:8: SettingWithCopyWarning: \n",
      "A value is trying to be set on a copy of a slice from a DataFrame.\n",
      "Try using .loc[row_indexer,col_indexer] = value instead\n",
      "\n",
      "See the caveats in the documentation: http://pandas.pydata.org/pandas-docs/stable/indexing.html#indexing-view-versus-copy\n"
     ]
    }
   ],
   "source": [
    "masked_dfs = []\n",
    "for i in turnstiles:\n",
    "    mask = grdcentral[((grdcentral[\"C/A\"] == \"R236\") & \n",
    "    (grdcentral[\"UNIT\"] == \"R045\") & \n",
    "    (grdcentral[\"SCP\"] ==  i) & \n",
    "    (grdcentral[\"STATION\"] == \"GRD CNTRL-42 ST\"))]\n",
    "            \n",
    "    mask['DIFFS'] = mask['EXITS'].diff()\n",
    "    masked_dfs.append(mask)"
   ]
  },
  {
   "cell_type": "code",
   "execution_count": 27,
   "metadata": {
    "collapsed": true
   },
   "outputs": [],
   "source": [
    "exits_turn = pd.concat(masked_dfs)"
   ]
  },
  {
   "cell_type": "code",
   "execution_count": 28,
   "metadata": {
    "collapsed": false
   },
   "outputs": [
    {
     "data": {
      "text/html": [
       "<div>\n",
       "<table border=\"1\" class=\"dataframe\">\n",
       "  <thead>\n",
       "    <tr style=\"text-align: right;\">\n",
       "      <th></th>\n",
       "      <th>C/A</th>\n",
       "      <th>UNIT</th>\n",
       "      <th>SCP</th>\n",
       "      <th>STATION</th>\n",
       "      <th>LINENAME</th>\n",
       "      <th>DIVISION</th>\n",
       "      <th>DATE</th>\n",
       "      <th>TIME</th>\n",
       "      <th>DESC</th>\n",
       "      <th>ENTRIES</th>\n",
       "      <th>EXITS</th>\n",
       "      <th>DIFFS</th>\n",
       "    </tr>\n",
       "    <tr>\n",
       "      <th>DATETIME</th>\n",
       "      <th></th>\n",
       "      <th></th>\n",
       "      <th></th>\n",
       "      <th></th>\n",
       "      <th></th>\n",
       "      <th></th>\n",
       "      <th></th>\n",
       "      <th></th>\n",
       "      <th></th>\n",
       "      <th></th>\n",
       "      <th></th>\n",
       "      <th></th>\n",
       "    </tr>\n",
       "  </thead>\n",
       "  <tbody>\n",
       "    <tr>\n",
       "      <th>2017-03-18 01:00:00</th>\n",
       "      <td>R236</td>\n",
       "      <td>R045</td>\n",
       "      <td>00-00-00</td>\n",
       "      <td>GRD CNTRL-42 ST</td>\n",
       "      <td>4567S</td>\n",
       "      <td>IRT</td>\n",
       "      <td>03/18/2017</td>\n",
       "      <td>01:00:00</td>\n",
       "      <td>REGULAR</td>\n",
       "      <td>747519</td>\n",
       "      <td>2221855</td>\n",
       "      <td>NaN</td>\n",
       "    </tr>\n",
       "    <tr>\n",
       "      <th>2017-03-18 05:00:00</th>\n",
       "      <td>R236</td>\n",
       "      <td>R045</td>\n",
       "      <td>00-00-00</td>\n",
       "      <td>GRD CNTRL-42 ST</td>\n",
       "      <td>4567S</td>\n",
       "      <td>IRT</td>\n",
       "      <td>03/18/2017</td>\n",
       "      <td>05:00:00</td>\n",
       "      <td>REGULAR</td>\n",
       "      <td>747528</td>\n",
       "      <td>2221890</td>\n",
       "      <td>35.0</td>\n",
       "    </tr>\n",
       "    <tr>\n",
       "      <th>2017-03-18 09:00:00</th>\n",
       "      <td>R236</td>\n",
       "      <td>R045</td>\n",
       "      <td>00-00-00</td>\n",
       "      <td>GRD CNTRL-42 ST</td>\n",
       "      <td>4567S</td>\n",
       "      <td>IRT</td>\n",
       "      <td>03/18/2017</td>\n",
       "      <td>09:00:00</td>\n",
       "      <td>REGULAR</td>\n",
       "      <td>747552</td>\n",
       "      <td>2222107</td>\n",
       "      <td>217.0</td>\n",
       "    </tr>\n",
       "    <tr>\n",
       "      <th>2017-03-18 13:00:00</th>\n",
       "      <td>R236</td>\n",
       "      <td>R045</td>\n",
       "      <td>00-00-00</td>\n",
       "      <td>GRD CNTRL-42 ST</td>\n",
       "      <td>4567S</td>\n",
       "      <td>IRT</td>\n",
       "      <td>03/18/2017</td>\n",
       "      <td>13:00:00</td>\n",
       "      <td>REGULAR</td>\n",
       "      <td>747659</td>\n",
       "      <td>2222859</td>\n",
       "      <td>752.0</td>\n",
       "    </tr>\n",
       "    <tr>\n",
       "      <th>2017-03-18 17:00:00</th>\n",
       "      <td>R236</td>\n",
       "      <td>R045</td>\n",
       "      <td>00-00-00</td>\n",
       "      <td>GRD CNTRL-42 ST</td>\n",
       "      <td>4567S</td>\n",
       "      <td>IRT</td>\n",
       "      <td>03/18/2017</td>\n",
       "      <td>17:00:00</td>\n",
       "      <td>REGULAR</td>\n",
       "      <td>747888</td>\n",
       "      <td>2223831</td>\n",
       "      <td>972.0</td>\n",
       "    </tr>\n",
       "  </tbody>\n",
       "</table>\n",
       "</div>"
      ],
      "text/plain": [
       "                      C/A  UNIT       SCP          STATION LINENAME DIVISION  \\\n",
       "DATETIME                                                                       \n",
       "2017-03-18 01:00:00  R236  R045  00-00-00  GRD CNTRL-42 ST    4567S      IRT   \n",
       "2017-03-18 05:00:00  R236  R045  00-00-00  GRD CNTRL-42 ST    4567S      IRT   \n",
       "2017-03-18 09:00:00  R236  R045  00-00-00  GRD CNTRL-42 ST    4567S      IRT   \n",
       "2017-03-18 13:00:00  R236  R045  00-00-00  GRD CNTRL-42 ST    4567S      IRT   \n",
       "2017-03-18 17:00:00  R236  R045  00-00-00  GRD CNTRL-42 ST    4567S      IRT   \n",
       "\n",
       "                           DATE      TIME     DESC  ENTRIES    EXITS  DIFFS  \n",
       "DATETIME                                                                     \n",
       "2017-03-18 01:00:00  03/18/2017  01:00:00  REGULAR   747519  2221855    NaN  \n",
       "2017-03-18 05:00:00  03/18/2017  05:00:00  REGULAR   747528  2221890   35.0  \n",
       "2017-03-18 09:00:00  03/18/2017  09:00:00  REGULAR   747552  2222107  217.0  \n",
       "2017-03-18 13:00:00  03/18/2017  13:00:00  REGULAR   747659  2222859  752.0  \n",
       "2017-03-18 17:00:00  03/18/2017  17:00:00  REGULAR   747888  2223831  972.0  "
      ]
     },
     "execution_count": 28,
     "metadata": {},
     "output_type": "execute_result"
    }
   ],
   "source": [
    "exits_turn.head()"
   ]
  },
  {
   "cell_type": "code",
   "execution_count": 29,
   "metadata": {
    "collapsed": false
   },
   "outputs": [],
   "source": [
    "#remove NaN values and negative values (i.e. counter resets)\n",
    "exits_turn.dropna(inplace=True)\n",
    "exits_turn = exits_turn[exits_turn['DIFFS'] >= 0]"
   ]
  },
  {
   "cell_type": "code",
   "execution_count": 30,
   "metadata": {
    "collapsed": false
   },
   "outputs": [
    {
     "data": {
      "text/html": [
       "<div>\n",
       "<table border=\"1\" class=\"dataframe\">\n",
       "  <thead>\n",
       "    <tr style=\"text-align: right;\">\n",
       "      <th></th>\n",
       "      <th>C/A</th>\n",
       "      <th>UNIT</th>\n",
       "      <th>SCP</th>\n",
       "      <th>STATION</th>\n",
       "      <th>LINENAME</th>\n",
       "      <th>DIVISION</th>\n",
       "      <th>DATE</th>\n",
       "      <th>TIME</th>\n",
       "      <th>DESC</th>\n",
       "      <th>ENTRIES</th>\n",
       "      <th>EXITS</th>\n",
       "      <th>DIFFS</th>\n",
       "    </tr>\n",
       "    <tr>\n",
       "      <th>DATETIME</th>\n",
       "      <th></th>\n",
       "      <th></th>\n",
       "      <th></th>\n",
       "      <th></th>\n",
       "      <th></th>\n",
       "      <th></th>\n",
       "      <th></th>\n",
       "      <th></th>\n",
       "      <th></th>\n",
       "      <th></th>\n",
       "      <th></th>\n",
       "      <th></th>\n",
       "    </tr>\n",
       "  </thead>\n",
       "  <tbody>\n",
       "    <tr>\n",
       "      <th>2017-03-03 04:00:00</th>\n",
       "      <td>R236</td>\n",
       "      <td>R045</td>\n",
       "      <td>00-06-01</td>\n",
       "      <td>GRD CNTRL-42 ST</td>\n",
       "      <td>4567S</td>\n",
       "      <td>IRT</td>\n",
       "      <td>03/03/2017</td>\n",
       "      <td>04:00:00</td>\n",
       "      <td>REGULAR</td>\n",
       "      <td>5334942</td>\n",
       "      <td>3221500</td>\n",
       "      <td>0.0</td>\n",
       "    </tr>\n",
       "    <tr>\n",
       "      <th>2017-03-03 08:00:00</th>\n",
       "      <td>R236</td>\n",
       "      <td>R045</td>\n",
       "      <td>00-06-01</td>\n",
       "      <td>GRD CNTRL-42 ST</td>\n",
       "      <td>4567S</td>\n",
       "      <td>IRT</td>\n",
       "      <td>03/03/2017</td>\n",
       "      <td>08:00:00</td>\n",
       "      <td>REGULAR</td>\n",
       "      <td>5334969</td>\n",
       "      <td>3221541</td>\n",
       "      <td>41.0</td>\n",
       "    </tr>\n",
       "    <tr>\n",
       "      <th>2017-03-03 12:00:00</th>\n",
       "      <td>R236</td>\n",
       "      <td>R045</td>\n",
       "      <td>00-06-01</td>\n",
       "      <td>GRD CNTRL-42 ST</td>\n",
       "      <td>4567S</td>\n",
       "      <td>IRT</td>\n",
       "      <td>03/03/2017</td>\n",
       "      <td>12:00:00</td>\n",
       "      <td>REGULAR</td>\n",
       "      <td>5335160</td>\n",
       "      <td>3221686</td>\n",
       "      <td>145.0</td>\n",
       "    </tr>\n",
       "    <tr>\n",
       "      <th>2017-03-03 16:00:00</th>\n",
       "      <td>R236</td>\n",
       "      <td>R045</td>\n",
       "      <td>00-06-01</td>\n",
       "      <td>GRD CNTRL-42 ST</td>\n",
       "      <td>4567S</td>\n",
       "      <td>IRT</td>\n",
       "      <td>03/03/2017</td>\n",
       "      <td>16:00:00</td>\n",
       "      <td>REGULAR</td>\n",
       "      <td>5335747</td>\n",
       "      <td>3221811</td>\n",
       "      <td>125.0</td>\n",
       "    </tr>\n",
       "    <tr>\n",
       "      <th>2017-03-03 20:00:00</th>\n",
       "      <td>R236</td>\n",
       "      <td>R045</td>\n",
       "      <td>00-06-01</td>\n",
       "      <td>GRD CNTRL-42 ST</td>\n",
       "      <td>4567S</td>\n",
       "      <td>IRT</td>\n",
       "      <td>03/03/2017</td>\n",
       "      <td>20:00:00</td>\n",
       "      <td>REGULAR</td>\n",
       "      <td>5337059</td>\n",
       "      <td>3221856</td>\n",
       "      <td>45.0</td>\n",
       "    </tr>\n",
       "  </tbody>\n",
       "</table>\n",
       "</div>"
      ],
      "text/plain": [
       "                      C/A  UNIT       SCP          STATION LINENAME DIVISION  \\\n",
       "DATETIME                                                                       \n",
       "2017-03-03 04:00:00  R236  R045  00-06-01  GRD CNTRL-42 ST    4567S      IRT   \n",
       "2017-03-03 08:00:00  R236  R045  00-06-01  GRD CNTRL-42 ST    4567S      IRT   \n",
       "2017-03-03 12:00:00  R236  R045  00-06-01  GRD CNTRL-42 ST    4567S      IRT   \n",
       "2017-03-03 16:00:00  R236  R045  00-06-01  GRD CNTRL-42 ST    4567S      IRT   \n",
       "2017-03-03 20:00:00  R236  R045  00-06-01  GRD CNTRL-42 ST    4567S      IRT   \n",
       "\n",
       "                           DATE      TIME     DESC  ENTRIES    EXITS  DIFFS  \n",
       "DATETIME                                                                     \n",
       "2017-03-03 04:00:00  03/03/2017  04:00:00  REGULAR  5334942  3221500    0.0  \n",
       "2017-03-03 08:00:00  03/03/2017  08:00:00  REGULAR  5334969  3221541   41.0  \n",
       "2017-03-03 12:00:00  03/03/2017  12:00:00  REGULAR  5335160  3221686  145.0  \n",
       "2017-03-03 16:00:00  03/03/2017  16:00:00  REGULAR  5335747  3221811  125.0  \n",
       "2017-03-03 20:00:00  03/03/2017  20:00:00  REGULAR  5337059  3221856   45.0  "
      ]
     },
     "execution_count": 30,
     "metadata": {},
     "output_type": "execute_result"
    }
   ],
   "source": [
    "# now have turnstile exits per four period (diffs column)\n",
    "exits_turn.tail()"
   ]
  },
  {
   "cell_type": "code",
   "execution_count": 31,
   "metadata": {
    "collapsed": false
   },
   "outputs": [],
   "source": [
    "# add exits across turnstiles by time\n",
    "exits_turn = exits_turn.reset_index()\n",
    "ct = exits_turn.groupby(['DATETIME'])['DIFFS'].sum().reset_index()"
   ]
  },
  {
   "cell_type": "code",
   "execution_count": 32,
   "metadata": {
    "collapsed": false
   },
   "outputs": [
    {
     "data": {
      "text/html": [
       "<div>\n",
       "<table border=\"1\" class=\"dataframe\">\n",
       "  <thead>\n",
       "    <tr style=\"text-align: right;\">\n",
       "      <th></th>\n",
       "      <th>DIFFS</th>\n",
       "    </tr>\n",
       "    <tr>\n",
       "      <th>DATETIME</th>\n",
       "      <th></th>\n",
       "    </tr>\n",
       "  </thead>\n",
       "  <tbody>\n",
       "    <tr>\n",
       "      <th>2017-02-25 04:00:00</th>\n",
       "      <td>25.0</td>\n",
       "    </tr>\n",
       "    <tr>\n",
       "      <th>2017-02-25 08:00:00</th>\n",
       "      <td>438.0</td>\n",
       "    </tr>\n",
       "    <tr>\n",
       "      <th>2017-02-25 12:00:00</th>\n",
       "      <td>1960.0</td>\n",
       "    </tr>\n",
       "    <tr>\n",
       "      <th>2017-02-25 16:00:00</th>\n",
       "      <td>2241.0</td>\n",
       "    </tr>\n",
       "    <tr>\n",
       "      <th>2017-02-25 20:00:00</th>\n",
       "      <td>2655.0</td>\n",
       "    </tr>\n",
       "  </tbody>\n",
       "</table>\n",
       "</div>"
      ],
      "text/plain": [
       "                      DIFFS\n",
       "DATETIME                   \n",
       "2017-02-25 04:00:00    25.0\n",
       "2017-02-25 08:00:00   438.0\n",
       "2017-02-25 12:00:00  1960.0\n",
       "2017-02-25 16:00:00  2241.0\n",
       "2017-02-25 20:00:00  2655.0"
      ]
     },
     "execution_count": 32,
     "metadata": {},
     "output_type": "execute_result"
    }
   ],
   "source": [
    "ct.set_index(['DATETIME'], inplace=True)\n",
    "ct.head()"
   ]
  },
  {
   "cell_type": "code",
   "execution_count": 33,
   "metadata": {
    "collapsed": false
   },
   "outputs": [],
   "source": [
    "we1 = ct[(ct.index > '2017-02-25 00:00:00') & (ct.index < '2017-02-27 05:00:00')]\n",
    "wd1 = ct[(ct.index > '2017-02-27 00:00:00') & (ct.index < '2017-03-04 05:00:00')]\n",
    "we2 = ct[(ct.index > '2017-03-04 00:00:00') & (ct.index < '2017-03-06 05:00:00')]\n",
    "wd2 = ct[(ct.index > '2017-03-06 00:00:00') & (ct.index < '2017-03-11 05:00:00')]\n",
    "we3 = ct[(ct.index > '2017-03-11 00:00:00') & (ct.index < '2017-03-13 05:00:00')]\n",
    "wd3 = ct[(ct.index > '2017-03-13 00:00:00') & (ct.index < '2017-03-18 05:00:00')]\n",
    "we4 = ct[(ct.index > '2017-03-18 00:00:00') & (ct.index < '2017-03-20 05:00:00')]\n",
    "wd4 = ct[(ct.index > '2017-03-20 00:00:00') & (ct.index < '2017-03-25 05:00:00')]"
   ]
  },
  {
   "cell_type": "code",
   "execution_count": 34,
   "metadata": {
    "collapsed": false
   },
   "outputs": [
    {
     "data": {
      "text/plain": [
       "<matplotlib.text.Text at 0x114d85dd8>"
      ]
     },
     "execution_count": 34,
     "metadata": {},
     "output_type": "execute_result"
    },
    {
     "data": {
      "image/png": "[encoded data removed]",
      "text/plain": [
       "<matplotlib.figure.Figure at 0x11361a278>"
      ]
     },
     "metadata": {},
     "output_type": "display_data"
    }
   ],
   "source": [
    "plt.figure(figsize=(12,8))\n",
    "\n",
    "plt.xticks(rotation=70)\n",
    "plt.plot(we1, color = 'navy')\n",
    "plt.plot(wd1, color = '#008080')\n",
    "plt.plot(we2, color = 'navy')\n",
    "plt.plot(wd2, color = '#008080')\n",
    "plt.plot(we3, color = 'navy')\n",
    "plt.plot(wd3, color = '#008080')\n",
    "plt.plot(we4, color = 'navy')\n",
    "plt.plot(wd4, color = '#008080')\n",
    "plt.title('Number of People Exiting Grand Central for the Month of March')\n",
    "plt.ylabel('People Exiting')"
   ]
  },
  {
   "cell_type": "code",
   "execution_count": 35,
   "metadata": {
    "collapsed": false
   },
   "outputs": [
    {
     "data": {
      "text/plain": [
       "<matplotlib.text.Text at 0x115b5da20>"
      ]
     },
     "execution_count": 35,
     "metadata": {},
     "output_type": "execute_result"
    },
    {
     "data": {
      "image/png": "[encoded data removed]",
      "text/plain": [
       "<matplotlib.figure.Figure at 0x115b32b00>"
      ]
     },
     "metadata": {},
     "output_type": "display_data"
    }
   ],
   "source": [
    "plt.figure(figsize=(12,8))\n",
    "\n",
    "\n",
    "plt.xticks(rotation=70)\n",
    "plt.plot(we2, color = 'navy')\n",
    "plt.plot(wd2, color = '#008080')\n",
    "plt.title('Number of People Exiting Grand Central for One Week')\n",
    "plt.ylabel('People Exiting')"
   ]
  },
  {
   "cell_type": "code",
   "execution_count": null,
   "metadata": {
    "collapsed": true
   },
   "outputs": [],
   "source": []
  },
  {
   "cell_type": "code",
   "execution_count": 38,
   "metadata": {
    "collapsed": false
   },
   "outputs": [
    {
     "data": {
      "text/plain": [
       "<matplotlib.axes._subplots.AxesSubplot at 0x11688dbe0>"
      ]
     },
     "execution_count": 38,
     "metadata": {},
     "output_type": "execute_result"
    },
    {
     "data": {
      "image/png": "[encoded data removed]",
      "text/plain": [
       "<matplotlib.figure.Figure at 0x11688dda0>"
      ]
     },
     "metadata": {},
     "output_type": "display_data"
    }
   ],
   "source": [
    "plt.figure(figsize=(12,8))\n",
    "\n",
    "\n",
    "plt.xticks(rotation=200)\n",
    "weekday1 = ct[(ct.index > '2017-03-05 21:00:00') & (ct.index < '2017-03-07 03:00:00')]\n",
    "weekday1['DIFFS'].plot(title = 'Number of People Exiting Grand Central for One Day')"
   ]
  },
  {
   "cell_type": "code",
   "execution_count": null,
   "metadata": {
    "collapsed": true
   },
   "outputs": [],
   "source": []
  },
  {
   "cell_type": "code",
   "execution_count": null,
   "metadata": {
    "collapsed": false
   },
   "outputs": [],
   "source": [
    "# weekly plot without weekends separated\n",
    "\n",
    "# wk1 = ct[(ct.index > '2017-02-25 00:00:00') & (ct.index < '2017-03-03 23:59:59')]\n",
    "# wk2 = ct[(ct.index > '2017-03-04 00:00:00') & (ct.index < '2017-03-10 23:59:59')]\n",
    "# wk3 = ct[(ct.index > '2017-03-11 00:00:00') & (ct.index < '2017-03-17 23:59:59')]\n",
    "# wk4 = ct[(ct.index > '2017-03-18 00:00:00') & (ct.index < '2017-03-24 23:59:59')]\n",
    "# plt.plot(wk1)\n",
    "# plt.plot(wk2)\n",
    "# plt.plot(wk3)\n",
    "# plt.plot(wk4)"
   ]
  },
  {
   "cell_type": "code",
   "execution_count": null,
   "metadata": {
    "collapsed": true
   },
   "outputs": [],
   "source": [
    "# daily plots (too few points to be that useful)\n",
    "\n",
    "# day1 = ct[(ct.index > '2017-02-25 00:00:00') & (ct.index < '2017-02-25 23:59:59')]\n",
    "# day2 = ct[(ct.index > '2017-02-26 00:00:00') & (ct.index < '2017-02-26 23:59:59')]\n",
    "# day3 = ct[(ct.index > '2017-02-27 00:00:00') & (ct.index < '2017-02-27 23:59:59')]\n",
    "# day4 = ct[(ct.index > '2017-02-28 00:00:00') & (ct.index < '2017-02-28 23:59:59')]\n",
    "# day5 = ct[(ct.index > '2017-03-01 00:00:00') & (ct.index < '2017-03-01 23:59:59')]\n",
    "# day6 = ct[(ct.index > '2017-03-02 00:00:00') & (ct.index < '2017-03-02 23:59:59')]\n",
    "# day7 = ct[(ct.index > '2017-03-03 00:00:00') & (ct.index < '2017-03-03 23:59:59')]\n",
    "# plt.close()\n",
    "# day1.plot()\n",
    "# day2.plot()\n",
    "# day3.plot()\n",
    "# day4.plot()\n",
    "# day5.plot()\n",
    "# day6.plot()\n",
    "# day7.plot()"
   ]
  },
  {
   "cell_type": "code",
   "execution_count": null,
   "metadata": {
    "collapsed": true
   },
   "outputs": [],
   "source": []
  }
 ],
 "metadata": {
  "anaconda-cloud": {},
  "kernelspec": {
   "display_name": "Python 3",
   "language": "python",
   "name": "python3"
  },
  "language_info": {
   "codemirror_mode": {
    "name": "ipython",
    "version": 3
   },
   "file_extension": ".py",
   "mimetype": "text/x-python",
   "name": "python",
   "nbconvert_exporter": "python",
   "pygments_lexer": "ipython3",
   "version": "3.6.0"
  }
 },
 "nbformat": 4,
 "nbformat_minor": 2
}
