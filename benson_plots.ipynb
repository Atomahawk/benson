{
 "cells": [
  {
   "cell_type": "markdown",
   "metadata": {},
   "source": [
    "First steps should be clean dataframes with columns ‘station, date, time, entries, and exits’ for each plot we plan to make"
   ]
  },
  {
   "cell_type": "code",
   "execution_count": 101,
   "metadata": {
    "collapsed": false
   },
   "outputs": [],
   "source": [
    "from collections import defaultdict\n",
    "from dateutil.parser import parse\n",
    "from datetime import datetime\n",
    "from datetime import date\n",
    "import pandas as pd\n",
    "import numpy as np\n",
    "import matplotlib.pyplot as plt\n",
    "\n",
    "from IPython.display import Image\n",
    "\n",
    "%matplotlib inline"
   ]
  },
  {
   "cell_type": "code",
   "execution_count": 102,
   "metadata": {
    "collapsed": true
   },
   "outputs": [],
   "source": [
    "# various options in pandas\n",
    "pd.set_option('display.max_columns', None)\n",
    "pd.set_option('display.max_rows', 25)\n",
    "pd.set_option('display.precision', 3)"
   ]
  },
  {
   "cell_type": "code",
   "execution_count": 103,
   "metadata": {
    "collapsed": true
   },
   "outputs": [],
   "source": [
    "def read_mta(file_nums):\n",
    "    path ='http://web.mta.info/developers/data/nyct/turnstile/turnstile_'\n",
    "    allFiles = []\n",
    "    for i in file_nums:\n",
    "        allFiles.append(path + i + \".txt\")\n",
    "    df_list = [pd.read_csv(file) for file in allFiles]\n",
    "    df = pd.concat(df_list)\n",
    "    df.columns = df.columns.str.strip()\n",
    "    return df"
   ]
  },
  {
   "cell_type": "code",
   "execution_count": 105,
   "metadata": {
    "collapsed": false
   },
   "outputs": [],
   "source": [
    "# march data\n",
    "df = read_mta(['170325', '170318', '170311', '170304'])"
   ]
  },
  {
   "cell_type": "code",
   "execution_count": 106,
   "metadata": {
    "collapsed": false
   },
   "outputs": [
    {
     "data": {
      "text/plain": [
       "Index(['C/A', 'UNIT', 'SCP', 'STATION', 'LINENAME', 'DIVISION', 'DATE', 'TIME',\n",
       "       'DESC', 'ENTRIES', 'EXITS'],\n",
       "      dtype='object')"
      ]
     },
     "execution_count": 106,
     "metadata": {},
     "output_type": "execute_result"
    }
   ],
   "source": [
    "df.columns"
   ]
  },
  {
   "cell_type": "code",
   "execution_count": 190,
   "metadata": {
    "collapsed": false
   },
   "outputs": [
    {
     "data": {
      "text/html": [
       "<div>\n",
       "<table border=\"1\" class=\"dataframe\">\n",
       "  <thead>\n",
       "    <tr style=\"text-align: right;\">\n",
       "      <th></th>\n",
       "      <th>C/A</th>\n",
       "      <th>UNIT</th>\n",
       "      <th>SCP</th>\n",
       "      <th>STATION</th>\n",
       "      <th>DATE</th>\n",
       "      <th>TIME</th>\n",
       "      <th>ENTRIES</th>\n",
       "    </tr>\n",
       "  </thead>\n",
       "  <tbody>\n",
       "    <tr>\n",
       "      <th>0</th>\n",
       "      <td>A002</td>\n",
       "      <td>R051</td>\n",
       "      <td>02-00-00</td>\n",
       "      <td>59 ST</td>\n",
       "      <td>02/25/2017</td>\n",
       "      <td>03:00:00</td>\n",
       "      <td>1</td>\n",
       "    </tr>\n",
       "    <tr>\n",
       "      <th>517927</th>\n",
       "      <td>R143</td>\n",
       "      <td>R032</td>\n",
       "      <td>02-03-01</td>\n",
       "      <td>TIMES SQ-42 ST</td>\n",
       "      <td>03/10/2017</td>\n",
       "      <td>23:00:00</td>\n",
       "      <td>1</td>\n",
       "    </tr>\n",
       "    <tr>\n",
       "      <th>517918</th>\n",
       "      <td>R143</td>\n",
       "      <td>R032</td>\n",
       "      <td>02-03-01</td>\n",
       "      <td>TIMES SQ-42 ST</td>\n",
       "      <td>03/09/2017</td>\n",
       "      <td>11:00:00</td>\n",
       "      <td>1</td>\n",
       "    </tr>\n",
       "    <tr>\n",
       "      <th>517919</th>\n",
       "      <td>R143</td>\n",
       "      <td>R032</td>\n",
       "      <td>02-03-01</td>\n",
       "      <td>TIMES SQ-42 ST</td>\n",
       "      <td>03/09/2017</td>\n",
       "      <td>15:00:00</td>\n",
       "      <td>1</td>\n",
       "    </tr>\n",
       "    <tr>\n",
       "      <th>517920</th>\n",
       "      <td>R143</td>\n",
       "      <td>R032</td>\n",
       "      <td>02-03-01</td>\n",
       "      <td>TIMES SQ-42 ST</td>\n",
       "      <td>03/09/2017</td>\n",
       "      <td>19:00:00</td>\n",
       "      <td>1</td>\n",
       "    </tr>\n",
       "  </tbody>\n",
       "</table>\n",
       "</div>"
      ],
      "text/plain": [
       "         C/A  UNIT       SCP         STATION        DATE      TIME  ENTRIES\n",
       "0       A002  R051  02-00-00           59 ST  02/25/2017  03:00:00        1\n",
       "517927  R143  R032  02-03-01  TIMES SQ-42 ST  03/10/2017  23:00:00        1\n",
       "517918  R143  R032  02-03-01  TIMES SQ-42 ST  03/09/2017  11:00:00        1\n",
       "517919  R143  R032  02-03-01  TIMES SQ-42 ST  03/09/2017  15:00:00        1\n",
       "517920  R143  R032  02-03-01  TIMES SQ-42 ST  03/09/2017  19:00:00        1"
      ]
     },
     "execution_count": 190,
     "metadata": {},
     "output_type": "execute_result"
    }
   ],
   "source": [
    "# remove duplicates\n",
    "df = df[df.DESC != 'RECOVR AUD']\n",
    "df = df[df.TIME != '04:01:13']\n",
    "# Sanity check to verify that \"C/A\", \"UNIT\", \"SCP\", \"STATION\", \"DATE_TIME\" is unique\n",
    "(df\n",
    " .groupby(['C/A', 'UNIT', 'SCP', 'STATION', 'DATE', 'TIME'])\n",
    " .ENTRIES.count()\n",
    " .reset_index()\n",
    " .sort_values(\"ENTRIES\", ascending=False)).head()"
   ]
  },
  {
   "cell_type": "code",
   "execution_count": 191,
   "metadata": {
    "collapsed": false
   },
   "outputs": [
    {
     "data": {
      "text/html": [
       "<div>\n",
       "<table border=\"1\" class=\"dataframe\">\n",
       "  <thead>\n",
       "    <tr style=\"text-align: right;\">\n",
       "      <th></th>\n",
       "      <th>C/A</th>\n",
       "      <th>UNIT</th>\n",
       "      <th>SCP</th>\n",
       "      <th>STATION</th>\n",
       "      <th>LINENAME</th>\n",
       "      <th>DIVISION</th>\n",
       "      <th>DATE</th>\n",
       "      <th>TIME</th>\n",
       "      <th>DESC</th>\n",
       "      <th>ENTRIES</th>\n",
       "      <th>EXITS</th>\n",
       "    </tr>\n",
       "    <tr>\n",
       "      <th>DATETIME</th>\n",
       "      <th></th>\n",
       "      <th></th>\n",
       "      <th></th>\n",
       "      <th></th>\n",
       "      <th></th>\n",
       "      <th></th>\n",
       "      <th></th>\n",
       "      <th></th>\n",
       "      <th></th>\n",
       "      <th></th>\n",
       "      <th></th>\n",
       "    </tr>\n",
       "  </thead>\n",
       "  <tbody>\n",
       "    <tr>\n",
       "      <th>2017-03-18 00:00:00</th>\n",
       "      <td>A002</td>\n",
       "      <td>R051</td>\n",
       "      <td>02-00-00</td>\n",
       "      <td>59 ST</td>\n",
       "      <td>NQR456W</td>\n",
       "      <td>BMT</td>\n",
       "      <td>03/18/2017</td>\n",
       "      <td>00:00:00</td>\n",
       "      <td>REGULAR</td>\n",
       "      <td>6095917</td>\n",
       "      <td>2065975</td>\n",
       "    </tr>\n",
       "    <tr>\n",
       "      <th>2017-03-18 04:00:00</th>\n",
       "      <td>A002</td>\n",
       "      <td>R051</td>\n",
       "      <td>02-00-00</td>\n",
       "      <td>59 ST</td>\n",
       "      <td>NQR456W</td>\n",
       "      <td>BMT</td>\n",
       "      <td>03/18/2017</td>\n",
       "      <td>04:00:00</td>\n",
       "      <td>REGULAR</td>\n",
       "      <td>6095980</td>\n",
       "      <td>2065977</td>\n",
       "    </tr>\n",
       "    <tr>\n",
       "      <th>2017-03-18 04:01:13</th>\n",
       "      <td>A002</td>\n",
       "      <td>R051</td>\n",
       "      <td>02-00-00</td>\n",
       "      <td>59 ST</td>\n",
       "      <td>NQR456W</td>\n",
       "      <td>BMT</td>\n",
       "      <td>03/18/2017</td>\n",
       "      <td>04:01:13</td>\n",
       "      <td>REGULAR</td>\n",
       "      <td>6095980</td>\n",
       "      <td>2065977</td>\n",
       "    </tr>\n",
       "    <tr>\n",
       "      <th>2017-03-18 08:00:00</th>\n",
       "      <td>A002</td>\n",
       "      <td>R051</td>\n",
       "      <td>02-00-00</td>\n",
       "      <td>59 ST</td>\n",
       "      <td>NQR456W</td>\n",
       "      <td>BMT</td>\n",
       "      <td>03/18/2017</td>\n",
       "      <td>08:00:00</td>\n",
       "      <td>REGULAR</td>\n",
       "      <td>6096012</td>\n",
       "      <td>2066004</td>\n",
       "    </tr>\n",
       "    <tr>\n",
       "      <th>2017-03-18 12:00:00</th>\n",
       "      <td>A002</td>\n",
       "      <td>R051</td>\n",
       "      <td>02-00-00</td>\n",
       "      <td>59 ST</td>\n",
       "      <td>NQR456W</td>\n",
       "      <td>BMT</td>\n",
       "      <td>03/18/2017</td>\n",
       "      <td>12:00:00</td>\n",
       "      <td>REGULAR</td>\n",
       "      <td>6096165</td>\n",
       "      <td>2066103</td>\n",
       "    </tr>\n",
       "  </tbody>\n",
       "</table>\n",
       "</div>"
      ],
      "text/plain": [
       "                      C/A  UNIT       SCP STATION LINENAME DIVISION  \\\n",
       "DATETIME                                                              \n",
       "2017-03-18 00:00:00  A002  R051  02-00-00   59 ST  NQR456W      BMT   \n",
       "2017-03-18 04:00:00  A002  R051  02-00-00   59 ST  NQR456W      BMT   \n",
       "2017-03-18 04:01:13  A002  R051  02-00-00   59 ST  NQR456W      BMT   \n",
       "2017-03-18 08:00:00  A002  R051  02-00-00   59 ST  NQR456W      BMT   \n",
       "2017-03-18 12:00:00  A002  R051  02-00-00   59 ST  NQR456W      BMT   \n",
       "\n",
       "                           DATE      TIME     DESC  ENTRIES    EXITS  \n",
       "DATETIME                                                              \n",
       "2017-03-18 00:00:00  03/18/2017  00:00:00  REGULAR  6095917  2065975  \n",
       "2017-03-18 04:00:00  03/18/2017  04:00:00  REGULAR  6095980  2065977  \n",
       "2017-03-18 04:01:13  03/18/2017  04:01:13  REGULAR  6095980  2065977  \n",
       "2017-03-18 08:00:00  03/18/2017  08:00:00  REGULAR  6096012  2066004  \n",
       "2017-03-18 12:00:00  03/18/2017  12:00:00  REGULAR  6096165  2066103  "
      ]
     },
     "execution_count": 191,
     "metadata": {},
     "output_type": "execute_result"
    }
   ],
   "source": [
    "# this is at a turnstile level\n",
    "df.head()"
   ]
  },
  {
   "cell_type": "code",
   "execution_count": 192,
   "metadata": {
    "collapsed": true
   },
   "outputs": [],
   "source": [
    "df['DATETIME'] = pd.to_datetime(df.DATE + ' ' + df.TIME)"
   ]
  },
  {
   "cell_type": "code",
   "execution_count": 193,
   "metadata": {
    "collapsed": true
   },
   "outputs": [],
   "source": [
    "df = df.set_index(['DATETIME'])"
   ]
  },
  {
   "cell_type": "code",
   "execution_count": 194,
   "metadata": {
    "collapsed": false
   },
   "outputs": [
    {
     "data": {
      "text/html": [
       "<div>\n",
       "<table border=\"1\" class=\"dataframe\">\n",
       "  <thead>\n",
       "    <tr style=\"text-align: right;\">\n",
       "      <th></th>\n",
       "      <th>C/A</th>\n",
       "      <th>UNIT</th>\n",
       "      <th>SCP</th>\n",
       "      <th>STATION</th>\n",
       "      <th>LINENAME</th>\n",
       "      <th>DIVISION</th>\n",
       "      <th>DATE</th>\n",
       "      <th>TIME</th>\n",
       "      <th>DESC</th>\n",
       "      <th>ENTRIES</th>\n",
       "      <th>EXITS</th>\n",
       "    </tr>\n",
       "    <tr>\n",
       "      <th>DATETIME</th>\n",
       "      <th></th>\n",
       "      <th></th>\n",
       "      <th></th>\n",
       "      <th></th>\n",
       "      <th></th>\n",
       "      <th></th>\n",
       "      <th></th>\n",
       "      <th></th>\n",
       "      <th></th>\n",
       "      <th></th>\n",
       "      <th></th>\n",
       "    </tr>\n",
       "  </thead>\n",
       "  <tbody>\n",
       "    <tr>\n",
       "      <th>2017-03-18 00:00:00</th>\n",
       "      <td>A002</td>\n",
       "      <td>R051</td>\n",
       "      <td>02-00-00</td>\n",
       "      <td>59 ST</td>\n",
       "      <td>NQR456W</td>\n",
       "      <td>BMT</td>\n",
       "      <td>03/18/2017</td>\n",
       "      <td>00:00:00</td>\n",
       "      <td>REGULAR</td>\n",
       "      <td>6095917</td>\n",
       "      <td>2065975</td>\n",
       "    </tr>\n",
       "    <tr>\n",
       "      <th>2017-03-18 04:00:00</th>\n",
       "      <td>A002</td>\n",
       "      <td>R051</td>\n",
       "      <td>02-00-00</td>\n",
       "      <td>59 ST</td>\n",
       "      <td>NQR456W</td>\n",
       "      <td>BMT</td>\n",
       "      <td>03/18/2017</td>\n",
       "      <td>04:00:00</td>\n",
       "      <td>REGULAR</td>\n",
       "      <td>6095980</td>\n",
       "      <td>2065977</td>\n",
       "    </tr>\n",
       "    <tr>\n",
       "      <th>2017-03-18 04:01:13</th>\n",
       "      <td>A002</td>\n",
       "      <td>R051</td>\n",
       "      <td>02-00-00</td>\n",
       "      <td>59 ST</td>\n",
       "      <td>NQR456W</td>\n",
       "      <td>BMT</td>\n",
       "      <td>03/18/2017</td>\n",
       "      <td>04:01:13</td>\n",
       "      <td>REGULAR</td>\n",
       "      <td>6095980</td>\n",
       "      <td>2065977</td>\n",
       "    </tr>\n",
       "    <tr>\n",
       "      <th>2017-03-18 08:00:00</th>\n",
       "      <td>A002</td>\n",
       "      <td>R051</td>\n",
       "      <td>02-00-00</td>\n",
       "      <td>59 ST</td>\n",
       "      <td>NQR456W</td>\n",
       "      <td>BMT</td>\n",
       "      <td>03/18/2017</td>\n",
       "      <td>08:00:00</td>\n",
       "      <td>REGULAR</td>\n",
       "      <td>6096012</td>\n",
       "      <td>2066004</td>\n",
       "    </tr>\n",
       "    <tr>\n",
       "      <th>2017-03-18 12:00:00</th>\n",
       "      <td>A002</td>\n",
       "      <td>R051</td>\n",
       "      <td>02-00-00</td>\n",
       "      <td>59 ST</td>\n",
       "      <td>NQR456W</td>\n",
       "      <td>BMT</td>\n",
       "      <td>03/18/2017</td>\n",
       "      <td>12:00:00</td>\n",
       "      <td>REGULAR</td>\n",
       "      <td>6096165</td>\n",
       "      <td>2066103</td>\n",
       "    </tr>\n",
       "  </tbody>\n",
       "</table>\n",
       "</div>"
      ],
      "text/plain": [
       "                      C/A  UNIT       SCP STATION LINENAME DIVISION  \\\n",
       "DATETIME                                                              \n",
       "2017-03-18 00:00:00  A002  R051  02-00-00   59 ST  NQR456W      BMT   \n",
       "2017-03-18 04:00:00  A002  R051  02-00-00   59 ST  NQR456W      BMT   \n",
       "2017-03-18 04:01:13  A002  R051  02-00-00   59 ST  NQR456W      BMT   \n",
       "2017-03-18 08:00:00  A002  R051  02-00-00   59 ST  NQR456W      BMT   \n",
       "2017-03-18 12:00:00  A002  R051  02-00-00   59 ST  NQR456W      BMT   \n",
       "\n",
       "                           DATE      TIME     DESC  ENTRIES    EXITS  \n",
       "DATETIME                                                              \n",
       "2017-03-18 00:00:00  03/18/2017  00:00:00  REGULAR  6095917  2065975  \n",
       "2017-03-18 04:00:00  03/18/2017  04:00:00  REGULAR  6095980  2065977  \n",
       "2017-03-18 04:01:13  03/18/2017  04:01:13  REGULAR  6095980  2065977  \n",
       "2017-03-18 08:00:00  03/18/2017  08:00:00  REGULAR  6096012  2066004  \n",
       "2017-03-18 12:00:00  03/18/2017  12:00:00  REGULAR  6096165  2066103  "
      ]
     },
     "execution_count": 194,
     "metadata": {},
     "output_type": "execute_result"
    }
   ],
   "source": [
    "df.head()"
   ]
  },
  {
   "cell_type": "code",
   "execution_count": 113,
   "metadata": {
    "collapsed": true
   },
   "outputs": [],
   "source": [
    "# filter dataset to 4am to noon\n",
    "# subtract max from min for each turnstile to get exits\n",
    "# add up total morning exits per station"
   ]
  },
  {
   "cell_type": "code",
   "execution_count": 195,
   "metadata": {
    "collapsed": false
   },
   "outputs": [],
   "source": [
    "morning = df.between_time('04:00:00', '12:00:00')"
   ]
  },
  {
   "cell_type": "code",
   "execution_count": 165,
   "metadata": {
    "collapsed": false
   },
   "outputs": [
    {
     "data": {
      "text/html": [
       "<div>\n",
       "<table border=\"1\" class=\"dataframe\">\n",
       "  <thead>\n",
       "    <tr style=\"text-align: right;\">\n",
       "      <th></th>\n",
       "      <th>C/A</th>\n",
       "      <th>UNIT</th>\n",
       "      <th>SCP</th>\n",
       "      <th>STATION</th>\n",
       "      <th>LINENAME</th>\n",
       "      <th>DIVISION</th>\n",
       "      <th>DATE</th>\n",
       "      <th>TIME</th>\n",
       "      <th>DESC</th>\n",
       "      <th>ENTRIES</th>\n",
       "      <th>EXITS</th>\n",
       "    </tr>\n",
       "    <tr>\n",
       "      <th>DATETIME</th>\n",
       "      <th></th>\n",
       "      <th></th>\n",
       "      <th></th>\n",
       "      <th></th>\n",
       "      <th></th>\n",
       "      <th></th>\n",
       "      <th></th>\n",
       "      <th></th>\n",
       "      <th></th>\n",
       "      <th></th>\n",
       "      <th></th>\n",
       "    </tr>\n",
       "  </thead>\n",
       "  <tbody>\n",
       "    <tr>\n",
       "      <th>2017-03-18 04:00:00</th>\n",
       "      <td>A002</td>\n",
       "      <td>R051</td>\n",
       "      <td>02-00-00</td>\n",
       "      <td>59 ST</td>\n",
       "      <td>NQR456W</td>\n",
       "      <td>BMT</td>\n",
       "      <td>03/18/2017</td>\n",
       "      <td>04:00:00</td>\n",
       "      <td>REGULAR</td>\n",
       "      <td>6095980</td>\n",
       "      <td>2065977</td>\n",
       "    </tr>\n",
       "    <tr>\n",
       "      <th>2017-03-18 04:01:13</th>\n",
       "      <td>A002</td>\n",
       "      <td>R051</td>\n",
       "      <td>02-00-00</td>\n",
       "      <td>59 ST</td>\n",
       "      <td>NQR456W</td>\n",
       "      <td>BMT</td>\n",
       "      <td>03/18/2017</td>\n",
       "      <td>04:01:13</td>\n",
       "      <td>REGULAR</td>\n",
       "      <td>6095980</td>\n",
       "      <td>2065977</td>\n",
       "    </tr>\n",
       "    <tr>\n",
       "      <th>2017-03-18 08:00:00</th>\n",
       "      <td>A002</td>\n",
       "      <td>R051</td>\n",
       "      <td>02-00-00</td>\n",
       "      <td>59 ST</td>\n",
       "      <td>NQR456W</td>\n",
       "      <td>BMT</td>\n",
       "      <td>03/18/2017</td>\n",
       "      <td>08:00:00</td>\n",
       "      <td>REGULAR</td>\n",
       "      <td>6096012</td>\n",
       "      <td>2066004</td>\n",
       "    </tr>\n",
       "    <tr>\n",
       "      <th>2017-03-18 12:00:00</th>\n",
       "      <td>A002</td>\n",
       "      <td>R051</td>\n",
       "      <td>02-00-00</td>\n",
       "      <td>59 ST</td>\n",
       "      <td>NQR456W</td>\n",
       "      <td>BMT</td>\n",
       "      <td>03/18/2017</td>\n",
       "      <td>12:00:00</td>\n",
       "      <td>REGULAR</td>\n",
       "      <td>6096165</td>\n",
       "      <td>2066103</td>\n",
       "    </tr>\n",
       "    <tr>\n",
       "      <th>2017-03-19 04:00:00</th>\n",
       "      <td>A002</td>\n",
       "      <td>R051</td>\n",
       "      <td>02-00-00</td>\n",
       "      <td>59 ST</td>\n",
       "      <td>NQR456W</td>\n",
       "      <td>BMT</td>\n",
       "      <td>03/19/2017</td>\n",
       "      <td>04:00:00</td>\n",
       "      <td>REGULAR</td>\n",
       "      <td>6097250</td>\n",
       "      <td>2066240</td>\n",
       "    </tr>\n",
       "  </tbody>\n",
       "</table>\n",
       "</div>"
      ],
      "text/plain": [
       "                      C/A  UNIT       SCP STATION LINENAME DIVISION  \\\n",
       "DATETIME                                                              \n",
       "2017-03-18 04:00:00  A002  R051  02-00-00   59 ST  NQR456W      BMT   \n",
       "2017-03-18 04:01:13  A002  R051  02-00-00   59 ST  NQR456W      BMT   \n",
       "2017-03-18 08:00:00  A002  R051  02-00-00   59 ST  NQR456W      BMT   \n",
       "2017-03-18 12:00:00  A002  R051  02-00-00   59 ST  NQR456W      BMT   \n",
       "2017-03-19 04:00:00  A002  R051  02-00-00   59 ST  NQR456W      BMT   \n",
       "\n",
       "                           DATE      TIME     DESC  ENTRIES    EXITS  \n",
       "DATETIME                                                              \n",
       "2017-03-18 04:00:00  03/18/2017  04:00:00  REGULAR  6095980  2065977  \n",
       "2017-03-18 04:01:13  03/18/2017  04:01:13  REGULAR  6095980  2065977  \n",
       "2017-03-18 08:00:00  03/18/2017  08:00:00  REGULAR  6096012  2066004  \n",
       "2017-03-18 12:00:00  03/18/2017  12:00:00  REGULAR  6096165  2066103  \n",
       "2017-03-19 04:00:00  03/19/2017  04:00:00  REGULAR  6097250  2066240  "
      ]
     },
     "execution_count": 165,
     "metadata": {},
     "output_type": "execute_result"
    }
   ],
   "source": [
    "morning.head()"
   ]
  },
  {
   "cell_type": "code",
   "execution_count": 196,
   "metadata": {
    "collapsed": false
   },
   "outputs": [],
   "source": [
    "morning_turn = (morning.groupby(['C/A', 'UNIT', 'SCP', 'STATION', 'DATE'])['EXITS'].max()\\\n",
    "           -morning.groupby(['C/A', 'UNIT', 'SCP', 'STATION', 'DATE'])['EXITS'].min()).reset_index()"
   ]
  },
  {
   "cell_type": "code",
   "execution_count": 201,
   "metadata": {
    "collapsed": false
   },
   "outputs": [
    {
     "data": {
      "text/plain": [
       "60298    2884\n",
       "60360    2892\n",
       "60327    2892\n",
       "60332    2895\n",
       "60325    2943\n",
       "60330    2947\n",
       "60361    2971\n",
       "60333    2994\n",
       "60354    3312\n",
       "60326    3471\n",
       "Name: EXITS, dtype: int64"
      ]
     },
     "execution_count": 201,
     "metadata": {},
     "output_type": "execute_result"
    }
   ],
   "source": [
    "# oddly high value for 47-50\n",
    "morning_turn.loc[morning_turn['STATION'] == '47-50 STS ROCK']['EXITS'].sort_values(ascending = True).tail(10)"
   ]
  },
  {
   "cell_type": "code",
   "execution_count": 202,
   "metadata": {
    "collapsed": false
   },
   "outputs": [
    {
     "data": {
      "text/plain": [
       "count    130882.000\n",
       "mean        231.356\n",
       "std         373.319\n",
       "min           0.000\n",
       "25%          17.000\n",
       "50%          96.000\n",
       "75%         276.000\n",
       "max        5803.000\n",
       "Name: EXITS, dtype: float64"
      ]
     },
     "execution_count": 202,
     "metadata": {},
     "output_type": "execute_result"
    }
   ],
   "source": [
    "#explore outliers\n",
    "morning_turn['EXITS'].describe()"
   ]
  },
  {
   "cell_type": "code",
   "execution_count": 203,
   "metadata": {
    "collapsed": false
   },
   "outputs": [
    {
     "data": {
      "text/plain": [
       "101356    4042\n",
       "101358    4071\n",
       "101357    4074\n",
       "101313    4104\n",
       "101869    4155\n",
       "101307    4165\n",
       "101315    4179\n",
       "101355    4218\n",
       "101868    4230\n",
       "101870    4267\n",
       "101866    4284\n",
       "101859    4353\n",
       "          ... \n",
       "101312    4727\n",
       "101351    4790\n",
       "73771     5207\n",
       "101562    5384\n",
       "101551    5484\n",
       "101560    5604\n",
       "101552    5625\n",
       "101558    5627\n",
       "101561    5629\n",
       "101554    5632\n",
       "101553    5791\n",
       "101559    5803\n",
       "Name: EXITS, dtype: int64"
      ]
     },
     "execution_count": 203,
     "metadata": {},
     "output_type": "execute_result"
    }
   ],
   "source": [
    "morning_turn['EXITS'].sort_values(ascending = True).tail(30)"
   ]
  },
  {
   "cell_type": "code",
   "execution_count": 200,
   "metadata": {
    "collapsed": false
   },
   "outputs": [],
   "source": [
    "# removing values that appear to be counter resets\n",
    "morning_turn = morning_turn[morning_turn.EXITS <= 11000]"
   ]
  },
  {
   "cell_type": "code",
   "execution_count": 204,
   "metadata": {
    "collapsed": false
   },
   "outputs": [
    {
     "data": {
      "text/html": [
       "<div>\n",
       "<table border=\"1\" class=\"dataframe\">\n",
       "  <thead>\n",
       "    <tr style=\"text-align: right;\">\n",
       "      <th></th>\n",
       "      <th>C/A</th>\n",
       "      <th>UNIT</th>\n",
       "      <th>SCP</th>\n",
       "      <th>STATION</th>\n",
       "      <th>DATE</th>\n",
       "      <th>EXITS</th>\n",
       "    </tr>\n",
       "  </thead>\n",
       "  <tbody>\n",
       "    <tr>\n",
       "      <th>0</th>\n",
       "      <td>A002</td>\n",
       "      <td>R051</td>\n",
       "      <td>02-00-00</td>\n",
       "      <td>59 ST</td>\n",
       "      <td>02/25/2017</td>\n",
       "      <td>103</td>\n",
       "    </tr>\n",
       "    <tr>\n",
       "      <th>1</th>\n",
       "      <td>A002</td>\n",
       "      <td>R051</td>\n",
       "      <td>02-00-00</td>\n",
       "      <td>59 ST</td>\n",
       "      <td>02/26/2017</td>\n",
       "      <td>65</td>\n",
       "    </tr>\n",
       "    <tr>\n",
       "      <th>2</th>\n",
       "      <td>A002</td>\n",
       "      <td>R051</td>\n",
       "      <td>02-00-00</td>\n",
       "      <td>59 ST</td>\n",
       "      <td>02/27/2017</td>\n",
       "      <td>255</td>\n",
       "    </tr>\n",
       "    <tr>\n",
       "      <th>3</th>\n",
       "      <td>A002</td>\n",
       "      <td>R051</td>\n",
       "      <td>02-00-00</td>\n",
       "      <td>59 ST</td>\n",
       "      <td>02/28/2017</td>\n",
       "      <td>386</td>\n",
       "    </tr>\n",
       "    <tr>\n",
       "      <th>4</th>\n",
       "      <td>A002</td>\n",
       "      <td>R051</td>\n",
       "      <td>02-00-00</td>\n",
       "      <td>59 ST</td>\n",
       "      <td>03/01/2017</td>\n",
       "      <td>346</td>\n",
       "    </tr>\n",
       "  </tbody>\n",
       "</table>\n",
       "</div>"
      ],
      "text/plain": [
       "    C/A  UNIT       SCP STATION        DATE  EXITS\n",
       "0  A002  R051  02-00-00   59 ST  02/25/2017    103\n",
       "1  A002  R051  02-00-00   59 ST  02/26/2017     65\n",
       "2  A002  R051  02-00-00   59 ST  02/27/2017    255\n",
       "3  A002  R051  02-00-00   59 ST  02/28/2017    386\n",
       "4  A002  R051  02-00-00   59 ST  03/01/2017    346"
      ]
     },
     "execution_count": 204,
     "metadata": {},
     "output_type": "execute_result"
    }
   ],
   "source": [
    "morning_turn.head()\n",
    "#morning_turn.shape"
   ]
  },
  {
   "cell_type": "code",
   "execution_count": 205,
   "metadata": {
    "collapsed": false
   },
   "outputs": [
    {
     "data": {
      "text/html": [
       "<div>\n",
       "<table border=\"1\" class=\"dataframe\">\n",
       "  <thead>\n",
       "    <tr style=\"text-align: right;\">\n",
       "      <th></th>\n",
       "      <th>STATION</th>\n",
       "      <th>DATE</th>\n",
       "      <th>EXITS</th>\n",
       "    </tr>\n",
       "  </thead>\n",
       "  <tbody>\n",
       "    <tr>\n",
       "      <th>0</th>\n",
       "      <td>1 AV</td>\n",
       "      <td>2017-02-25</td>\n",
       "      <td>2499</td>\n",
       "    </tr>\n",
       "    <tr>\n",
       "      <th>1</th>\n",
       "      <td>1 AV</td>\n",
       "      <td>2017-02-26</td>\n",
       "      <td>1817</td>\n",
       "    </tr>\n",
       "    <tr>\n",
       "      <th>2</th>\n",
       "      <td>1 AV</td>\n",
       "      <td>2017-02-27</td>\n",
       "      <td>6897</td>\n",
       "    </tr>\n",
       "    <tr>\n",
       "      <th>3</th>\n",
       "      <td>1 AV</td>\n",
       "      <td>2017-02-28</td>\n",
       "      <td>7145</td>\n",
       "    </tr>\n",
       "    <tr>\n",
       "      <th>4</th>\n",
       "      <td>1 AV</td>\n",
       "      <td>2017-03-01</td>\n",
       "      <td>7222</td>\n",
       "    </tr>\n",
       "  </tbody>\n",
       "</table>\n",
       "</div>"
      ],
      "text/plain": [
       "  STATION       DATE  EXITS\n",
       "0    1 AV 2017-02-25   2499\n",
       "1    1 AV 2017-02-26   1817\n",
       "2    1 AV 2017-02-27   6897\n",
       "3    1 AV 2017-02-28   7145\n",
       "4    1 AV 2017-03-01   7222"
      ]
     },
     "execution_count": 205,
     "metadata": {},
     "output_type": "execute_result"
    }
   ],
   "source": [
    "morning_station = morning_turn.groupby(['STATION', 'DATE']).sum().reset_index()\n",
    "morning_station['DATE'] = pd.to_datetime(morning_station['DATE'])\n",
    "morning_station.head()"
   ]
  },
  {
   "cell_type": "code",
   "execution_count": 206,
   "metadata": {
    "collapsed": true
   },
   "outputs": [],
   "source": [
    "# for whole month\n",
    "morning_month = morning_station.groupby(['STATION'])['EXITS'].sum().reset_index()"
   ]
  },
  {
   "cell_type": "code",
   "execution_count": 207,
   "metadata": {
    "collapsed": false
   },
   "outputs": [
    {
     "data": {
      "text/plain": [
       "<matplotlib.axes._subplots.AxesSubplot at 0x134af0e80>"
      ]
     },
     "execution_count": 207,
     "metadata": {},
     "output_type": "execute_result"
    },
    {
     "data": {
      "image/png": "[encoded data removed]",
      "text/plain": [
       "<matplotlib.figure.Figure at 0x16b423eb8>"
      ]
     },
     "metadata": {},
     "output_type": "display_data"
    }
   ],
   "source": [
    "morning_month = morning_month.set_index('STATION')\n",
    "topsts = morning_month.sort_values('EXITS', ascending=False).head(10)\n",
    "topsts.head()\n",
    "topsts.plot(kind='barh', title='Morning Exits by Station')"
   ]
  },
  {
   "cell_type": "code",
   "execution_count": null,
   "metadata": {
    "collapsed": true
   },
   "outputs": [],
   "source": []
  },
  {
   "cell_type": "code",
   "execution_count": null,
   "metadata": {
    "collapsed": true
   },
   "outputs": [],
   "source": [
    "## GRD CNTRL station\n",
    "## 4 weeks\n",
    "## daily entries"
   ]
  },
  {
   "cell_type": "code",
   "execution_count": 110,
   "metadata": {
    "collapsed": false
   },
   "outputs": [
    {
     "data": {
      "text/html": [
       "<div>\n",
       "<table border=\"1\" class=\"dataframe\">\n",
       "  <thead>\n",
       "    <tr style=\"text-align: right;\">\n",
       "      <th></th>\n",
       "      <th>C/A</th>\n",
       "      <th>UNIT</th>\n",
       "      <th>SCP</th>\n",
       "      <th>STATION</th>\n",
       "      <th>LINENAME</th>\n",
       "      <th>DIVISION</th>\n",
       "      <th>DATE</th>\n",
       "      <th>TIME</th>\n",
       "      <th>DESC</th>\n",
       "      <th>ENTRIES</th>\n",
       "      <th>EXITS</th>\n",
       "      <th>PREV_DATE</th>\n",
       "      <th>PREV_EXITS</th>\n",
       "      <th>DAILY_EXITS</th>\n",
       "    </tr>\n",
       "    <tr>\n",
       "      <th>DATETIME</th>\n",
       "      <th></th>\n",
       "      <th></th>\n",
       "      <th></th>\n",
       "      <th></th>\n",
       "      <th></th>\n",
       "      <th></th>\n",
       "      <th></th>\n",
       "      <th></th>\n",
       "      <th></th>\n",
       "      <th></th>\n",
       "      <th></th>\n",
       "      <th></th>\n",
       "      <th></th>\n",
       "      <th></th>\n",
       "    </tr>\n",
       "  </thead>\n",
       "  <tbody>\n",
       "    <tr>\n",
       "      <th>2017-03-18 04:00:00</th>\n",
       "      <td>A002</td>\n",
       "      <td>R051</td>\n",
       "      <td>02-00-00</td>\n",
       "      <td>59 ST</td>\n",
       "      <td>NQR456W</td>\n",
       "      <td>BMT</td>\n",
       "      <td>03/18/2017</td>\n",
       "      <td>04:00:00</td>\n",
       "      <td>REGULAR</td>\n",
       "      <td>6095980</td>\n",
       "      <td>2065977</td>\n",
       "      <td>03/18/2017</td>\n",
       "      <td>2.066e+06</td>\n",
       "      <td>2.0</td>\n",
       "    </tr>\n",
       "    <tr>\n",
       "      <th>2017-03-18 08:00:00</th>\n",
       "      <td>A002</td>\n",
       "      <td>R051</td>\n",
       "      <td>02-00-00</td>\n",
       "      <td>59 ST</td>\n",
       "      <td>NQR456W</td>\n",
       "      <td>BMT</td>\n",
       "      <td>03/18/2017</td>\n",
       "      <td>08:00:00</td>\n",
       "      <td>REGULAR</td>\n",
       "      <td>6096012</td>\n",
       "      <td>2066004</td>\n",
       "      <td>03/18/2017</td>\n",
       "      <td>2.066e+06</td>\n",
       "      <td>27.0</td>\n",
       "    </tr>\n",
       "    <tr>\n",
       "      <th>2017-03-18 12:00:00</th>\n",
       "      <td>A002</td>\n",
       "      <td>R051</td>\n",
       "      <td>02-00-00</td>\n",
       "      <td>59 ST</td>\n",
       "      <td>NQR456W</td>\n",
       "      <td>BMT</td>\n",
       "      <td>03/18/2017</td>\n",
       "      <td>12:00:00</td>\n",
       "      <td>REGULAR</td>\n",
       "      <td>6096165</td>\n",
       "      <td>2066103</td>\n",
       "      <td>03/18/2017</td>\n",
       "      <td>2.066e+06</td>\n",
       "      <td>99.0</td>\n",
       "    </tr>\n",
       "    <tr>\n",
       "      <th>2017-03-19 04:00:00</th>\n",
       "      <td>A002</td>\n",
       "      <td>R051</td>\n",
       "      <td>02-00-00</td>\n",
       "      <td>59 ST</td>\n",
       "      <td>NQR456W</td>\n",
       "      <td>BMT</td>\n",
       "      <td>03/19/2017</td>\n",
       "      <td>04:00:00</td>\n",
       "      <td>REGULAR</td>\n",
       "      <td>6097250</td>\n",
       "      <td>2066240</td>\n",
       "      <td>03/19/2017</td>\n",
       "      <td>2.066e+06</td>\n",
       "      <td>6.0</td>\n",
       "    </tr>\n",
       "    <tr>\n",
       "      <th>2017-03-19 08:00:00</th>\n",
       "      <td>A002</td>\n",
       "      <td>R051</td>\n",
       "      <td>02-00-00</td>\n",
       "      <td>59 ST</td>\n",
       "      <td>NQR456W</td>\n",
       "      <td>BMT</td>\n",
       "      <td>03/19/2017</td>\n",
       "      <td>08:00:00</td>\n",
       "      <td>REGULAR</td>\n",
       "      <td>6097260</td>\n",
       "      <td>2066259</td>\n",
       "      <td>03/19/2017</td>\n",
       "      <td>2.066e+06</td>\n",
       "      <td>19.0</td>\n",
       "    </tr>\n",
       "  </tbody>\n",
       "</table>\n",
       "</div>"
      ],
      "text/plain": [
       "                      C/A  UNIT       SCP STATION LINENAME DIVISION  \\\n",
       "DATETIME                                                              \n",
       "2017-03-18 04:00:00  A002  R051  02-00-00   59 ST  NQR456W      BMT   \n",
       "2017-03-18 08:00:00  A002  R051  02-00-00   59 ST  NQR456W      BMT   \n",
       "2017-03-18 12:00:00  A002  R051  02-00-00   59 ST  NQR456W      BMT   \n",
       "2017-03-19 04:00:00  A002  R051  02-00-00   59 ST  NQR456W      BMT   \n",
       "2017-03-19 08:00:00  A002  R051  02-00-00   59 ST  NQR456W      BMT   \n",
       "\n",
       "                           DATE      TIME     DESC  ENTRIES    EXITS  \\\n",
       "DATETIME                                                               \n",
       "2017-03-18 04:00:00  03/18/2017  04:00:00  REGULAR  6095980  2065977   \n",
       "2017-03-18 08:00:00  03/18/2017  08:00:00  REGULAR  6096012  2066004   \n",
       "2017-03-18 12:00:00  03/18/2017  12:00:00  REGULAR  6096165  2066103   \n",
       "2017-03-19 04:00:00  03/19/2017  04:00:00  REGULAR  6097250  2066240   \n",
       "2017-03-19 08:00:00  03/19/2017  08:00:00  REGULAR  6097260  2066259   \n",
       "\n",
       "                      PREV_DATE  PREV_EXITS  DAILY_EXITS  \n",
       "DATETIME                                                  \n",
       "2017-03-18 04:00:00  03/18/2017   2.066e+06          2.0  \n",
       "2017-03-18 08:00:00  03/18/2017   2.066e+06         27.0  \n",
       "2017-03-18 12:00:00  03/18/2017   2.066e+06         99.0  \n",
       "2017-03-19 04:00:00  03/19/2017   2.066e+06          6.0  \n",
       "2017-03-19 08:00:00  03/19/2017   2.066e+06         19.0  "
      ]
     },
     "execution_count": 110,
     "metadata": {},
     "output_type": "execute_result"
    }
   ],
   "source": [
    "# at turnstile level\n",
    "morning.head()"
   ]
  },
  {
   "cell_type": "code",
   "execution_count": null,
   "metadata": {
    "collapsed": true
   },
   "outputs": [],
   "source": []
  },
  {
   "cell_type": "code",
   "execution_count": null,
   "metadata": {
    "collapsed": true
   },
   "outputs": [],
   "source": []
  },
  {
   "cell_type": "code",
   "execution_count": null,
   "metadata": {
    "collapsed": true
   },
   "outputs": [],
   "source": []
  },
  {
   "cell_type": "code",
   "execution_count": null,
   "metadata": {
    "collapsed": true
   },
   "outputs": [],
   "source": []
  },
  {
   "cell_type": "code",
   "execution_count": null,
   "metadata": {
    "collapsed": true
   },
   "outputs": [],
   "source": [
    "## GRD CNTRL station\n",
    "## 1 weeks\n",
    "## hourly entries"
   ]
  },
  {
   "cell_type": "code",
   "execution_count": null,
   "metadata": {
    "collapsed": true
   },
   "outputs": [],
   "source": []
  }
 ],
 "metadata": {
  "kernelspec": {
   "display_name": "Python 3",
   "language": "python",
   "name": "python3"
  },
  "language_info": {
   "codemirror_mode": {
    "name": "ipython",
    "version": 3
   },
   "file_extension": ".py",
   "mimetype": "text/x-python",
   "name": "python",
   "nbconvert_exporter": "python",
   "pygments_lexer": "ipython3",
   "version": "3.6.0"
  }
 },
 "nbformat": 4,
 "nbformat_minor": 2
}
